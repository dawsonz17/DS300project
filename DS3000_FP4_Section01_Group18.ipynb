{
 "cells": [
  {
   "cell_type": "markdown",
   "metadata": {},
   "source": [
    "<center> <h2> DS 3000 - Fall 2020</h2> </center>\n",
    "<center> <h3> DS Report </h3> </center>\n"
   ]
  },
  {
   "cell_type": "markdown",
   "metadata": {},
   "source": [
    "<center> <h3> Identifying Splice Junctions Using Supervised Machine Learning</h3> </center>\n",
    "<center><h4>Charles Crain, Zachary Dawson, Giona Kleinberg</h4></center>\n"
   ]
  },
  {
   "cell_type": "markdown",
   "metadata": {},
   "source": [
    "  "
   ]
  },
  {
   "cell_type": "markdown",
   "metadata": {},
   "source": [
    "<hr style=\"height:2px; border:none; color:black; background-color:black;\">"
   ]
  },
  {
   "cell_type": "markdown",
   "metadata": {},
   "source": [
    "#### Executive Summary:\n",
    "\n",
    "Add your summary here (100-150 words)\n",
    "\n",
    "Provide a brief summary of your project. After reading this executive summary, your readers should have a rough understanding of what you did in this project. You can think of this summary in terms of the four sections of the report and write 1-2 sentences describing each section.\n",
    "\n"
   ]
  },
  {
   "cell_type": "markdown",
   "metadata": {},
   "source": [
    "<hr style=\"height:2px; border:none; color:black; background-color:black;\">"
   ]
  },
  {
   "cell_type": "markdown",
   "metadata": {},
   "source": [
    "## Outline\n",
    "1. <a href='#1'>INTRODUCTION</a>\n",
    "2. <a href='#2'>METHOD</a>\n",
    "3. <a href='#3'>RESULTS</a>\n",
    "4. <a href='#4'>DISCUSSION</a>"
   ]
  },
  {
   "cell_type": "markdown",
   "metadata": {},
   "source": [
    "<a id=\"1\"></a>\n",
    "<hr style=\"height:2px; border:none; color:black; background-color:black;\">"
   ]
  },
  {
   "cell_type": "markdown",
   "metadata": {},
   "source": [
    "## 1. INTRODUCTION"
   ]
  },
  {
   "cell_type": "markdown",
   "metadata": {},
   "source": [
    "In this section, orient your readers to your project. You've already written some of these in previous deliverables. Based on your final analysis, revise your problem statement and write a concise introduction section. This section should touch upon the following points, but should be written in full paragraphs. Your writing should incorporate all of these points (and more if you like) in a coherent way. Remember that you are trying to convince your readers that this is an important problem to tackle. \n",
    "\n",
    "Problem Statement\n",
    "* Describe the problem you would like to tackle. \n",
    "* What is the topic of your project? \n",
    "* What do you want to learn about it?\n",
    "\n",
    "Significance of the Problem\n",
    "* Why is it important to tackle this problem in your project?\n",
    "* In what ways could the insights from this project be useful?\n",
    "* **(optional)** Has there been previous work on your topic in terms of applying ML techniques to analyze similar datasets? Do some research into your topic. What algorithms were used? What was the performance of those algorithms? Cite your sources appropriately. You can use the numbered reference format or APA (if you are more comfortable with it).\n",
    "\n",
    "Questions/Hypothesis\n",
    "* End this section with a list of questions and hypotheses\n",
    "* You should tie these questions/hypotheses to the problem statement and its significance\n",
    "    * e.g. Given the aforementioned problem and its importance, we set out to tackle the following questions:\n",
    "    \n",
    "**Requirement:**\n",
    "* You should have at least one question tapping into the comparison of various machine learning algorithms (at least three) in predicting/classifying your target variable from your features variables.\n",
    "* You should have at least one hypothesis regarding the relationship between two variables, which may be different from your ML problem.\n",
    "\n",
    "\n",
    "\n",
    "While this section provides bullet points as prompts, your Introduction should consist of coherent paragraphs. As noted in the rubric, you are required delete all the prompts from this template, except for headings. Failing to do so will result in substantial point deductions."
   ]
  },
  {
   "cell_type": "markdown",
   "metadata": {},
   "source": [
    "In all living organisms, the DNA genetic code is first transcribed into messenger RNA (mRNA) transcripts which go on to direct protein synthesis. In eukaryotic organisms, the initial pre-mRNA transcripts consist of exons, which code for the protein, and introns, which are non-coding sequences. The exons must be spliced together to form the final mRNA transcript in order to direct protein synthesis. This splicing process involves stitching together the exons while removing the introns. \n",
    "\n",
    " \n",
    "\n",
    "Due to advances in genomics technology, the full genome sequences of many organisms are known. However, one of the challenges to accurately predicting proteins in eukaryotes is determining which sequences in genes are exons and introns; the solution to this challenge involves locating the junctions between exons and introns that the cell recognizes during splicing. There are many sequence and context-dependent factors that determine which parts of sequences are splice sites (De Conti, Baralle, & Buratti, 2013). The aim of our project is to find an optimal machine learning model for predicting splice sites from DNA sequence. \n",
    "\n",
    " \n",
    "\n",
    "As mentioned above, splice site recognition is important to predicting the coding sequences of genes in humans and other eukaryotic organisms. Additionally, detecting splice sites is also crucial for predicting isoforms of genes, which are similar proteins formed from splicing together exons in different ways. It is estimated that 9-11% of rare genetic disorders involve cryptic splice sites, or mutations that introduce a splice site where there should not be one (Jaganathan et al., 2019). Thus, determination of splice site is important to identifying and characterizing disease-causing genetic variation. For all of these reasons, splice site prediction is an important biomedical goal which may benefit from the application of machine learning. \n",
    "\n",
    " \n",
    "\n",
    "This problem has been previously studied in a machine learning context.  Meher, et al. (2019) tested the performance of five classification algorithms in combination with 8 nucleotide-encoding schemes. Their research found that, both in terms of accuracy and computational speed, the best performing classifier was a support vector machine. They found that SVM performed at >90% accuracy across multiple encoding schemes. The best performing encoding scheme was a nucleotide-specific encoder calleddi-nucleotide frequency difference between real & false splice sites (FDTF). Jaganathan, et al. (2019) developed a deep residual neural network to predict splice sites with 95% accuracy based on 10,000 nucleotides of adjacent sequence. \n",
    "\n",
    " \n",
    "\n",
    "De Conti, L., Baralle, M., & Buratti, E. (2013). Exon and intron definition in pre-mRNA splicing. Wiley Interdiscip Rev RNA, 4(1), 49-60. doi:10.1002/wrna.1140 \n",
    "\n",
    "Jaganathan, K., Kyriazopoulou Panagiotopoulou, S., McRae, J. F., Darbandi, S. F., Knowles, D., Li, Y. I., . . . Farh, K. K.-H. (2019). Predicting Splicing from Primary Sequence with Deep Learning. Cell, 176(3), 535-548.e524. doi:https://doi.org/10.1016/j.cell.2018.12.015 \n",
    "\n",
    "Meher, P. K., Sahu, T. K., Gahoi, S., Satpathy, S., & Rao, A. R. (2019). Evaluating the performance of sequence encoding schemes and machine learning methods for splice sites recognition. Gene, 705, 113-126. doi:https://doi.org/10.1016/j.gene.2019.04.047 \n",
    "\n",
    " "
   ]
  },
  {
   "cell_type": "markdown",
   "metadata": {},
   "source": [
    "**Question 1:** What type of machine learning model will best be able to predict the type of boundary in a genetic sequence?\n",
    "\n",
    "**Hypothesis:** The support vector machine, bernoulli naive bayes, and multinomial naive bayes will perform the best out of the basic set of classification algorithms.\n",
    "\n",
    "**Justification:** The support vector machine algorithm is predicted to do well due to the high dimensions of the dataset. The multinomial naive bayes algorithm is designed to handle data with discrete features which resonates well with our datasets' features which are primarily discrete nucleotide bases at given positions in a genetic sequence. The Bernoulli naive bayes is also predicted to perform well as we plan to one-hot encode our nucleotide base features into discrete, binary features which the bernoulli naive bayes model is adept at handling.\n",
    "\n",
    "\n",
    "**Question 2:** Is there a significant difference in GC content between the different types of splice junctions.\n",
    "\n",
    "**Hypothesis:** There is a significant difference in GC content between the different types of splice junctions.\n",
    "\n",
    "**Justification:** GC content provides valuable insight into the genetic contents of a given sequence so it makes sense that the type of junction within a genetic sequence will affect the GC content. Genes typically have a higher GC content than non-encoding regions of the genome so since splice junctions are contained within genes, their GC content will likely differ especially from non-splice junctions.\n",
    "\n",
    "\n",
    "**Question 3:** Where are the most important locations within a genetic sequence in predicting the type of splice junction present within that sequence.\n",
    "\n",
    "**Hypothesis:** The most important positions will be centered around the the location of the junction.\n",
    "\n",
    "**Justification:** The nucleotide bases in positions closer to the center of the junction will likely have a greater impact in determining the type of splice junction and will therefore likely be very influential as features of a machine learning model."
   ]
  },
  {
   "cell_type": "markdown",
   "metadata": {},
   "source": [
    "<a id=\"2\"></a>\n",
    "<hr style=\"height:2px; border:none; color:black; background-color:black;\">"
   ]
  },
  {
   "cell_type": "markdown",
   "metadata": {},
   "source": [
    "## 2. METHOD"
   ]
  },
  {
   "cell_type": "markdown",
   "metadata": {},
   "source": [
    "### 2.1. Data Acquisition\n",
    "\n",
    "* Describe where you obtained your data. Provide a link to the original source. \n",
    "* If you scraped your data, include your code as a **separate** script file.\n",
    "* Your data should be stored in an online repository (e.g., GitHub) and your code should retrieve your data from that online resource. You can read csv files from the Web in the same way that you read files from local drive.\n",
    "* Describe the dataset (i.e., what it is about) and the number of variables/rows included.\n"
   ]
  },
  {
   "cell_type": "markdown",
   "metadata": {},
   "source": [
    "    Our data was obtained from openML which is an online dataset repository containing datasets that can be analyzed via machine learning. The link to the page with the original dataset is https://www.openml.org/d/46. The sequences of the dataset were originally found in GenBank 64.1 and were donated by G. Towell, M. Noordewier, and J. Shavlik to openML to be analyzed using machine learning. The data was read into JupyterLab from GitHub.\n",
    "    \n",
    "    Our dataset represents a set of sequences taken from primates originally from GenBank 64.1. There are 3,190 rows each representing a genetic sequence that can be classified by the target variable. Each of the 60 features of the dataset represent the nucleotide base at a position in the sequence. The nucleotide base is either A, C, T, G, and the could also be classified as D, N, S, R. If the positional value is D, the nucleotide base is either A, G, or T. If the positional value is N, the base could be A, C, T, or G. If the positional value is S, the nucleotide base is either C or G. If the positional value is R, the nucleotide base is either A or G. The target variable is the classification of the sequence into one that has an Exon/Intron Boundary (EI), an Intron/Exon Boundary (IE) or a non-splice junction (N). \n"
   ]
  },
  {
   "cell_type": "code",
   "execution_count": 1,
   "metadata": {},
   "outputs": [
    {
     "data": {
      "text/html": [
       "<div>\n",
       "<style scoped>\n",
       "    .dataframe tbody tr th:only-of-type {\n",
       "        vertical-align: middle;\n",
       "    }\n",
       "\n",
       "    .dataframe tbody tr th {\n",
       "        vertical-align: top;\n",
       "    }\n",
       "\n",
       "    .dataframe thead th {\n",
       "        text-align: right;\n",
       "    }\n",
       "</style>\n",
       "<table border=\"1\" class=\"dataframe\">\n",
       "  <thead>\n",
       "    <tr style=\"text-align: right;\">\n",
       "      <th></th>\n",
       "      <th>attribute_1</th>\n",
       "      <th>attribute_2</th>\n",
       "      <th>attribute_3</th>\n",
       "      <th>attribute_4</th>\n",
       "      <th>attribute_5</th>\n",
       "      <th>attribute_6</th>\n",
       "      <th>attribute_7</th>\n",
       "      <th>attribute_8</th>\n",
       "      <th>attribute_9</th>\n",
       "      <th>attribute_10</th>\n",
       "      <th>...</th>\n",
       "      <th>attribute_52</th>\n",
       "      <th>attribute_53</th>\n",
       "      <th>attribute_54</th>\n",
       "      <th>attribute_55</th>\n",
       "      <th>attribute_56</th>\n",
       "      <th>attribute_57</th>\n",
       "      <th>attribute_58</th>\n",
       "      <th>attribute_59</th>\n",
       "      <th>attribute_60</th>\n",
       "      <th>Class</th>\n",
       "    </tr>\n",
       "    <tr>\n",
       "      <th>Instance_name</th>\n",
       "      <th></th>\n",
       "      <th></th>\n",
       "      <th></th>\n",
       "      <th></th>\n",
       "      <th></th>\n",
       "      <th></th>\n",
       "      <th></th>\n",
       "      <th></th>\n",
       "      <th></th>\n",
       "      <th></th>\n",
       "      <th></th>\n",
       "      <th></th>\n",
       "      <th></th>\n",
       "      <th></th>\n",
       "      <th></th>\n",
       "      <th></th>\n",
       "      <th></th>\n",
       "      <th></th>\n",
       "      <th></th>\n",
       "      <th></th>\n",
       "      <th></th>\n",
       "    </tr>\n",
       "  </thead>\n",
       "  <tbody>\n",
       "    <tr>\n",
       "      <th>ATRINS-DONOR-521</th>\n",
       "      <td>C</td>\n",
       "      <td>C</td>\n",
       "      <td>A</td>\n",
       "      <td>G</td>\n",
       "      <td>C</td>\n",
       "      <td>T</td>\n",
       "      <td>G</td>\n",
       "      <td>C</td>\n",
       "      <td>A</td>\n",
       "      <td>T</td>\n",
       "      <td>...</td>\n",
       "      <td>G</td>\n",
       "      <td>C</td>\n",
       "      <td>C</td>\n",
       "      <td>A</td>\n",
       "      <td>G</td>\n",
       "      <td>T</td>\n",
       "      <td>C</td>\n",
       "      <td>T</td>\n",
       "      <td>G</td>\n",
       "      <td>EI</td>\n",
       "    </tr>\n",
       "    <tr>\n",
       "      <th>ATRINS-DONOR-905</th>\n",
       "      <td>A</td>\n",
       "      <td>G</td>\n",
       "      <td>A</td>\n",
       "      <td>C</td>\n",
       "      <td>C</td>\n",
       "      <td>C</td>\n",
       "      <td>G</td>\n",
       "      <td>C</td>\n",
       "      <td>C</td>\n",
       "      <td>G</td>\n",
       "      <td>...</td>\n",
       "      <td>T</td>\n",
       "      <td>G</td>\n",
       "      <td>C</td>\n",
       "      <td>C</td>\n",
       "      <td>C</td>\n",
       "      <td>C</td>\n",
       "      <td>C</td>\n",
       "      <td>G</td>\n",
       "      <td>C</td>\n",
       "      <td>EI</td>\n",
       "    </tr>\n",
       "    <tr>\n",
       "      <th>BABAPOE-DONOR-30</th>\n",
       "      <td>G</td>\n",
       "      <td>A</td>\n",
       "      <td>G</td>\n",
       "      <td>G</td>\n",
       "      <td>T</td>\n",
       "      <td>G</td>\n",
       "      <td>A</td>\n",
       "      <td>A</td>\n",
       "      <td>G</td>\n",
       "      <td>G</td>\n",
       "      <td>...</td>\n",
       "      <td>A</td>\n",
       "      <td>C</td>\n",
       "      <td>G</td>\n",
       "      <td>G</td>\n",
       "      <td>G</td>\n",
       "      <td>G</td>\n",
       "      <td>A</td>\n",
       "      <td>T</td>\n",
       "      <td>G</td>\n",
       "      <td>EI</td>\n",
       "    </tr>\n",
       "    <tr>\n",
       "      <th>BABAPOE-DONOR-867</th>\n",
       "      <td>G</td>\n",
       "      <td>G</td>\n",
       "      <td>G</td>\n",
       "      <td>C</td>\n",
       "      <td>T</td>\n",
       "      <td>G</td>\n",
       "      <td>C</td>\n",
       "      <td>G</td>\n",
       "      <td>T</td>\n",
       "      <td>T</td>\n",
       "      <td>...</td>\n",
       "      <td>G</td>\n",
       "      <td>T</td>\n",
       "      <td>T</td>\n",
       "      <td>T</td>\n",
       "      <td>T</td>\n",
       "      <td>C</td>\n",
       "      <td>C</td>\n",
       "      <td>C</td>\n",
       "      <td>C</td>\n",
       "      <td>EI</td>\n",
       "    </tr>\n",
       "    <tr>\n",
       "      <th>BABAPOE-DONOR-2817</th>\n",
       "      <td>G</td>\n",
       "      <td>C</td>\n",
       "      <td>T</td>\n",
       "      <td>C</td>\n",
       "      <td>A</td>\n",
       "      <td>G</td>\n",
       "      <td>C</td>\n",
       "      <td>C</td>\n",
       "      <td>C</td>\n",
       "      <td>C</td>\n",
       "      <td>...</td>\n",
       "      <td>C</td>\n",
       "      <td>T</td>\n",
       "      <td>T</td>\n",
       "      <td>G</td>\n",
       "      <td>A</td>\n",
       "      <td>C</td>\n",
       "      <td>C</td>\n",
       "      <td>C</td>\n",
       "      <td>T</td>\n",
       "      <td>EI</td>\n",
       "    </tr>\n",
       "  </tbody>\n",
       "</table>\n",
       "<p>5 rows × 61 columns</p>\n",
       "</div>"
      ],
      "text/plain": [
       "                   attribute_1 attribute_2 attribute_3 attribute_4  \\\n",
       "Instance_name                                                        \n",
       "ATRINS-DONOR-521             C           C           A           G   \n",
       "ATRINS-DONOR-905             A           G           A           C   \n",
       "BABAPOE-DONOR-30             G           A           G           G   \n",
       "BABAPOE-DONOR-867            G           G           G           C   \n",
       "BABAPOE-DONOR-2817           G           C           T           C   \n",
       "\n",
       "                   attribute_5 attribute_6 attribute_7 attribute_8  \\\n",
       "Instance_name                                                        \n",
       "ATRINS-DONOR-521             C           T           G           C   \n",
       "ATRINS-DONOR-905             C           C           G           C   \n",
       "BABAPOE-DONOR-30             T           G           A           A   \n",
       "BABAPOE-DONOR-867            T           G           C           G   \n",
       "BABAPOE-DONOR-2817           A           G           C           C   \n",
       "\n",
       "                   attribute_9 attribute_10  ... attribute_52 attribute_53  \\\n",
       "Instance_name                                ...                             \n",
       "ATRINS-DONOR-521             A            T  ...            G            C   \n",
       "ATRINS-DONOR-905             C            G  ...            T            G   \n",
       "BABAPOE-DONOR-30             G            G  ...            A            C   \n",
       "BABAPOE-DONOR-867            T            T  ...            G            T   \n",
       "BABAPOE-DONOR-2817           C            C  ...            C            T   \n",
       "\n",
       "                   attribute_54 attribute_55 attribute_56 attribute_57  \\\n",
       "Instance_name                                                            \n",
       "ATRINS-DONOR-521              C            A            G            T   \n",
       "ATRINS-DONOR-905              C            C            C            C   \n",
       "BABAPOE-DONOR-30              G            G            G            G   \n",
       "BABAPOE-DONOR-867             T            T            T            C   \n",
       "BABAPOE-DONOR-2817            T            G            A            C   \n",
       "\n",
       "                   attribute_58 attribute_59 attribute_60 Class  \n",
       "Instance_name                                                    \n",
       "ATRINS-DONOR-521              C            T            G    EI  \n",
       "ATRINS-DONOR-905              C            G            C    EI  \n",
       "BABAPOE-DONOR-30              A            T            G    EI  \n",
       "BABAPOE-DONOR-867             C            C            C    EI  \n",
       "BABAPOE-DONOR-2817            C            C            T    EI  \n",
       "\n",
       "[5 rows x 61 columns]"
      ]
     },
     "execution_count": 1,
     "metadata": {},
     "output_type": "execute_result"
    }
   ],
   "source": [
    "import pandas as pd # import pandas\n",
    "\n",
    "url = 'https://raw.githubusercontent.com/dawsonz17/DS300project/master/data.csv' # url to github raw csv\n",
    "df = pd.read_csv(url, index_col=0) # reads online csv from github into a pandas dataframe\n",
    "df.head(5) # displays head of dataframe"
   ]
  },
  {
   "cell_type": "markdown",
   "metadata": {},
   "source": [
    "### 2.2. Data Analysis\n",
    "* For your hypotheses, what are your IVs and DVs?\n",
    "* Specifically describe your predictive model. What outcome variable are you going to predict from what feature variables? Why do you think those are important predictors?\n",
    "* Describe why this is a supervised ML problem and identify the sub-category of the learning task (e.g. classification).\n",
    "* What machine learning algorithms are you going to use? **Why?** You should compare at least three algorithms."
   ]
  },
  {
   "cell_type": "markdown",
   "metadata": {},
   "source": [
    "    For the first hypothesis, the independent variable is the the type of machine learning model, and the dependent variable is the model's performance (accuracy score). For the second hypothesis, the independent variable is the type of slice junction (our target variable) and the dependent variable is the GC content of the genetic sequences. For the third hypothesis, the independent variable is the position features in the genetic sequence, and the dependent variable is the importance of the feature to creating a supervised classification model (measured discretely as important or not using univariate feature selection).\n",
    "    The goal of the predictive model is to predict the type of splice-junction (target variable) from the nucleotide bases at 60 different positions across a genetic sequence as well as the GC content of the sequence (feature variables). These features were chosen as they provide information regarding the building blocks of a splice-junction (nucleotide bases) as well as patterns in their order and quantity. Due to the close association of the feature variables and target variable, these features should provide a relaible foundation for predicting the target variable.\n",
    "    This problem is a supervised machine leaning problem as a model is being trained using labeled data. By providing a complementary training set and validation set to machine to the chosen algorithms, machine learning will allow the creation of a model that can label unlabeled data in a testing set or additional data obtained in the future. The sub-category of supervised machine learning that our task falls into is multiclass classification as our target variable is discrete and there are three possible classes for each item to be labeled as.\n",
    "    The machine learning algorithms used are k-Nearest Neighbors, Support Vector Machine, Guassian Naive Bayes, Decision Tree, Binomial Naive Bayes, and Multinomial Naive Bayes. The support vector machine algorithm was chosen due to its strength as an algorithm to predict high dimensional data. The multinomial naive bayes algorithm was chosen since it is optimized for discrete datasets such as ours. The binomial naive bayes algorithm was chosen for a similar reason as the algorithm performs well on discrete data and more specifically binary data. While the majority of our features are not binary (A, C, T, or G), they likely will function similar to binary features once one-hot-encoding is used. Due to this reason, the binomial naive bayes was included. The other used algorithms, including the k-nearest neighbors, guassian naive bayes, and decision tree algorithms, were not as suited for our dataset however were included as well due to the low computational cost of doing so. Finding the algorithm with the best performance was prioritized over the neglible computational cost of testing these additional algorithms even though the chance of their success was relatively lower than the other algorithms.\n"
   ]
  },
  {
   "cell_type": "markdown",
   "metadata": {},
   "source": [
    "<a id=\"3\"></a>\n",
    "<hr style=\"height:2px; border:none; color:black; background-color:black;\">"
   ]
  },
  {
   "cell_type": "markdown",
   "metadata": {},
   "source": [
    "## 3. RESULTS"
   ]
  },
  {
   "cell_type": "markdown",
   "metadata": {},
   "source": [
    "### 3.1. Data Wrangling\n",
    "In this section, you should do the following and explain why you are doing what you are doing. For each, you should include your code in a cell, followed by a sample output. For instance, if you are one-hot encoding one of your variables, you should first describe what it is and why you are doing it. You should then include your code in a cell, and the sample output should be available as well.\n",
    "\n",
    "* Perform simple data cleaning (delete extra columns, deal with NA values, etc.)\n",
    "* Perform data wrangling to get your features and target values (e.g., grouping your dataframe by columns, applying functions to format dataframes, etc.)\n",
    "* Preprocess your variables (e.g., scaling/transforming feature variables to normalize them)\n",
    "* Perform feature extraction (dummy variables, new features from existing features, etc.)\n",
    "* Use one feature selection technique to select a subset of your original features\n"
   ]
  },
  {
   "cell_type": "code",
   "execution_count": 2,
   "metadata": {},
   "outputs": [
    {
     "data": {
      "text/html": [
       "<div>\n",
       "<style scoped>\n",
       "    .dataframe tbody tr th:only-of-type {\n",
       "        vertical-align: middle;\n",
       "    }\n",
       "\n",
       "    .dataframe tbody tr th {\n",
       "        vertical-align: top;\n",
       "    }\n",
       "\n",
       "    .dataframe thead th {\n",
       "        text-align: right;\n",
       "    }\n",
       "</style>\n",
       "<table border=\"1\" class=\"dataframe\">\n",
       "  <thead>\n",
       "    <tr style=\"text-align: right;\">\n",
       "      <th></th>\n",
       "      <th>attribute_1</th>\n",
       "      <th>attribute_2</th>\n",
       "      <th>attribute_3</th>\n",
       "      <th>attribute_4</th>\n",
       "      <th>attribute_5</th>\n",
       "      <th>attribute_6</th>\n",
       "      <th>attribute_7</th>\n",
       "      <th>attribute_8</th>\n",
       "      <th>attribute_9</th>\n",
       "      <th>attribute_10</th>\n",
       "      <th>...</th>\n",
       "      <th>attribute_51</th>\n",
       "      <th>attribute_52</th>\n",
       "      <th>attribute_53</th>\n",
       "      <th>attribute_54</th>\n",
       "      <th>attribute_55</th>\n",
       "      <th>attribute_56</th>\n",
       "      <th>attribute_57</th>\n",
       "      <th>attribute_58</th>\n",
       "      <th>attribute_59</th>\n",
       "      <th>attribute_60</th>\n",
       "    </tr>\n",
       "  </thead>\n",
       "  <tbody>\n",
       "    <tr>\n",
       "      <th>0</th>\n",
       "      <td>C</td>\n",
       "      <td>C</td>\n",
       "      <td>A</td>\n",
       "      <td>G</td>\n",
       "      <td>C</td>\n",
       "      <td>T</td>\n",
       "      <td>G</td>\n",
       "      <td>C</td>\n",
       "      <td>A</td>\n",
       "      <td>T</td>\n",
       "      <td>...</td>\n",
       "      <td>A</td>\n",
       "      <td>G</td>\n",
       "      <td>C</td>\n",
       "      <td>C</td>\n",
       "      <td>A</td>\n",
       "      <td>G</td>\n",
       "      <td>T</td>\n",
       "      <td>C</td>\n",
       "      <td>T</td>\n",
       "      <td>G</td>\n",
       "    </tr>\n",
       "    <tr>\n",
       "      <th>1</th>\n",
       "      <td>A</td>\n",
       "      <td>G</td>\n",
       "      <td>A</td>\n",
       "      <td>C</td>\n",
       "      <td>C</td>\n",
       "      <td>C</td>\n",
       "      <td>G</td>\n",
       "      <td>C</td>\n",
       "      <td>C</td>\n",
       "      <td>G</td>\n",
       "      <td>...</td>\n",
       "      <td>G</td>\n",
       "      <td>T</td>\n",
       "      <td>G</td>\n",
       "      <td>C</td>\n",
       "      <td>C</td>\n",
       "      <td>C</td>\n",
       "      <td>C</td>\n",
       "      <td>C</td>\n",
       "      <td>G</td>\n",
       "      <td>C</td>\n",
       "    </tr>\n",
       "    <tr>\n",
       "      <th>2</th>\n",
       "      <td>G</td>\n",
       "      <td>A</td>\n",
       "      <td>G</td>\n",
       "      <td>G</td>\n",
       "      <td>T</td>\n",
       "      <td>G</td>\n",
       "      <td>A</td>\n",
       "      <td>A</td>\n",
       "      <td>G</td>\n",
       "      <td>G</td>\n",
       "      <td>...</td>\n",
       "      <td>C</td>\n",
       "      <td>A</td>\n",
       "      <td>C</td>\n",
       "      <td>G</td>\n",
       "      <td>G</td>\n",
       "      <td>G</td>\n",
       "      <td>G</td>\n",
       "      <td>A</td>\n",
       "      <td>T</td>\n",
       "      <td>G</td>\n",
       "    </tr>\n",
       "    <tr>\n",
       "      <th>3</th>\n",
       "      <td>G</td>\n",
       "      <td>G</td>\n",
       "      <td>G</td>\n",
       "      <td>C</td>\n",
       "      <td>T</td>\n",
       "      <td>G</td>\n",
       "      <td>C</td>\n",
       "      <td>G</td>\n",
       "      <td>T</td>\n",
       "      <td>T</td>\n",
       "      <td>...</td>\n",
       "      <td>G</td>\n",
       "      <td>G</td>\n",
       "      <td>T</td>\n",
       "      <td>T</td>\n",
       "      <td>T</td>\n",
       "      <td>T</td>\n",
       "      <td>C</td>\n",
       "      <td>C</td>\n",
       "      <td>C</td>\n",
       "      <td>C</td>\n",
       "    </tr>\n",
       "    <tr>\n",
       "      <th>4</th>\n",
       "      <td>G</td>\n",
       "      <td>C</td>\n",
       "      <td>T</td>\n",
       "      <td>C</td>\n",
       "      <td>A</td>\n",
       "      <td>G</td>\n",
       "      <td>C</td>\n",
       "      <td>C</td>\n",
       "      <td>C</td>\n",
       "      <td>C</td>\n",
       "      <td>...</td>\n",
       "      <td>C</td>\n",
       "      <td>C</td>\n",
       "      <td>T</td>\n",
       "      <td>T</td>\n",
       "      <td>G</td>\n",
       "      <td>A</td>\n",
       "      <td>C</td>\n",
       "      <td>C</td>\n",
       "      <td>C</td>\n",
       "      <td>T</td>\n",
       "    </tr>\n",
       "  </tbody>\n",
       "</table>\n",
       "<p>5 rows × 60 columns</p>\n",
       "</div>"
      ],
      "text/plain": [
       "  attribute_1 attribute_2 attribute_3 attribute_4 attribute_5 attribute_6  \\\n",
       "0           C           C           A           G           C           T   \n",
       "1           A           G           A           C           C           C   \n",
       "2           G           A           G           G           T           G   \n",
       "3           G           G           G           C           T           G   \n",
       "4           G           C           T           C           A           G   \n",
       "\n",
       "  attribute_7 attribute_8 attribute_9 attribute_10  ... attribute_51  \\\n",
       "0           G           C           A            T  ...            A   \n",
       "1           G           C           C            G  ...            G   \n",
       "2           A           A           G            G  ...            C   \n",
       "3           C           G           T            T  ...            G   \n",
       "4           C           C           C            C  ...            C   \n",
       "\n",
       "  attribute_52 attribute_53 attribute_54 attribute_55 attribute_56  \\\n",
       "0            G            C            C            A            G   \n",
       "1            T            G            C            C            C   \n",
       "2            A            C            G            G            G   \n",
       "3            G            T            T            T            T   \n",
       "4            C            T            T            G            A   \n",
       "\n",
       "  attribute_57 attribute_58 attribute_59 attribute_60  \n",
       "0            T            C            T            G  \n",
       "1            C            C            G            C  \n",
       "2            G            A            T            G  \n",
       "3            C            C            C            C  \n",
       "4            C            C            C            T  \n",
       "\n",
       "[5 rows x 60 columns]"
      ]
     },
     "execution_count": 2,
     "metadata": {},
     "output_type": "execute_result"
    }
   ],
   "source": [
    "# This code block isolates the features from the imported dataset. The output for this cell is the head of the feature dataframe\n",
    "\n",
    "features = df.drop('Class', axis=1).reset_index(drop=True) # isolate features\n",
    "features.head(5) # show head of features"
   ]
  },
  {
   "cell_type": "code",
   "execution_count": 3,
   "metadata": {},
   "outputs": [
    {
     "data": {
      "text/plain": [
       "0    EI\n",
       "1    EI\n",
       "2    EI\n",
       "3    EI\n",
       "4    EI\n",
       "Name: Class, dtype: object"
      ]
     },
     "execution_count": 3,
     "metadata": {},
     "output_type": "execute_result"
    }
   ],
   "source": [
    "# This code block isolates the target variable from the imported dataset. The output for this cell is the head of the target dataframe\n",
    "\n",
    "target = df['Class'].reset_index(drop=True) # isolate target\n",
    "target.head(5) # shows head of dataframe "
   ]
  },
  {
   "cell_type": "code",
   "execution_count": 4,
   "metadata": {},
   "outputs": [
    {
     "data": {
      "text/html": [
       "<div>\n",
       "<style scoped>\n",
       "    .dataframe tbody tr th:only-of-type {\n",
       "        vertical-align: middle;\n",
       "    }\n",
       "\n",
       "    .dataframe tbody tr th {\n",
       "        vertical-align: top;\n",
       "    }\n",
       "\n",
       "    .dataframe thead th {\n",
       "        text-align: right;\n",
       "    }\n",
       "</style>\n",
       "<table border=\"1\" class=\"dataframe\">\n",
       "  <thead>\n",
       "    <tr style=\"text-align: right;\">\n",
       "      <th></th>\n",
       "      <th>x0_A</th>\n",
       "      <th>x0_C</th>\n",
       "      <th>x0_D</th>\n",
       "      <th>x0_G</th>\n",
       "      <th>x0_T</th>\n",
       "      <th>x1_A</th>\n",
       "      <th>x1_C</th>\n",
       "      <th>x1_D</th>\n",
       "      <th>x1_G</th>\n",
       "      <th>x1_T</th>\n",
       "      <th>...</th>\n",
       "      <th>x58_A</th>\n",
       "      <th>x58_C</th>\n",
       "      <th>x58_G</th>\n",
       "      <th>x58_N</th>\n",
       "      <th>x58_T</th>\n",
       "      <th>x59_A</th>\n",
       "      <th>x59_C</th>\n",
       "      <th>x59_G</th>\n",
       "      <th>x59_N</th>\n",
       "      <th>x59_T</th>\n",
       "    </tr>\n",
       "  </thead>\n",
       "  <tbody>\n",
       "    <tr>\n",
       "      <th>0</th>\n",
       "      <td>0.0</td>\n",
       "      <td>1.0</td>\n",
       "      <td>0.0</td>\n",
       "      <td>0.0</td>\n",
       "      <td>0.0</td>\n",
       "      <td>0.0</td>\n",
       "      <td>1.0</td>\n",
       "      <td>0.0</td>\n",
       "      <td>0.0</td>\n",
       "      <td>0.0</td>\n",
       "      <td>...</td>\n",
       "      <td>0.0</td>\n",
       "      <td>0.0</td>\n",
       "      <td>0.0</td>\n",
       "      <td>0.0</td>\n",
       "      <td>1.0</td>\n",
       "      <td>0.0</td>\n",
       "      <td>0.0</td>\n",
       "      <td>1.0</td>\n",
       "      <td>0.0</td>\n",
       "      <td>0.0</td>\n",
       "    </tr>\n",
       "    <tr>\n",
       "      <th>1</th>\n",
       "      <td>1.0</td>\n",
       "      <td>0.0</td>\n",
       "      <td>0.0</td>\n",
       "      <td>0.0</td>\n",
       "      <td>0.0</td>\n",
       "      <td>0.0</td>\n",
       "      <td>0.0</td>\n",
       "      <td>0.0</td>\n",
       "      <td>1.0</td>\n",
       "      <td>0.0</td>\n",
       "      <td>...</td>\n",
       "      <td>0.0</td>\n",
       "      <td>0.0</td>\n",
       "      <td>1.0</td>\n",
       "      <td>0.0</td>\n",
       "      <td>0.0</td>\n",
       "      <td>0.0</td>\n",
       "      <td>1.0</td>\n",
       "      <td>0.0</td>\n",
       "      <td>0.0</td>\n",
       "      <td>0.0</td>\n",
       "    </tr>\n",
       "    <tr>\n",
       "      <th>2</th>\n",
       "      <td>0.0</td>\n",
       "      <td>0.0</td>\n",
       "      <td>0.0</td>\n",
       "      <td>1.0</td>\n",
       "      <td>0.0</td>\n",
       "      <td>1.0</td>\n",
       "      <td>0.0</td>\n",
       "      <td>0.0</td>\n",
       "      <td>0.0</td>\n",
       "      <td>0.0</td>\n",
       "      <td>...</td>\n",
       "      <td>0.0</td>\n",
       "      <td>0.0</td>\n",
       "      <td>0.0</td>\n",
       "      <td>0.0</td>\n",
       "      <td>1.0</td>\n",
       "      <td>0.0</td>\n",
       "      <td>0.0</td>\n",
       "      <td>1.0</td>\n",
       "      <td>0.0</td>\n",
       "      <td>0.0</td>\n",
       "    </tr>\n",
       "    <tr>\n",
       "      <th>3</th>\n",
       "      <td>0.0</td>\n",
       "      <td>0.0</td>\n",
       "      <td>0.0</td>\n",
       "      <td>1.0</td>\n",
       "      <td>0.0</td>\n",
       "      <td>0.0</td>\n",
       "      <td>0.0</td>\n",
       "      <td>0.0</td>\n",
       "      <td>1.0</td>\n",
       "      <td>0.0</td>\n",
       "      <td>...</td>\n",
       "      <td>0.0</td>\n",
       "      <td>1.0</td>\n",
       "      <td>0.0</td>\n",
       "      <td>0.0</td>\n",
       "      <td>0.0</td>\n",
       "      <td>0.0</td>\n",
       "      <td>1.0</td>\n",
       "      <td>0.0</td>\n",
       "      <td>0.0</td>\n",
       "      <td>0.0</td>\n",
       "    </tr>\n",
       "    <tr>\n",
       "      <th>4</th>\n",
       "      <td>0.0</td>\n",
       "      <td>0.0</td>\n",
       "      <td>0.0</td>\n",
       "      <td>1.0</td>\n",
       "      <td>0.0</td>\n",
       "      <td>0.0</td>\n",
       "      <td>1.0</td>\n",
       "      <td>0.0</td>\n",
       "      <td>0.0</td>\n",
       "      <td>0.0</td>\n",
       "      <td>...</td>\n",
       "      <td>0.0</td>\n",
       "      <td>1.0</td>\n",
       "      <td>0.0</td>\n",
       "      <td>0.0</td>\n",
       "      <td>0.0</td>\n",
       "      <td>0.0</td>\n",
       "      <td>0.0</td>\n",
       "      <td>0.0</td>\n",
       "      <td>0.0</td>\n",
       "      <td>1.0</td>\n",
       "    </tr>\n",
       "  </tbody>\n",
       "</table>\n",
       "<p>5 rows × 287 columns</p>\n",
       "</div>"
      ],
      "text/plain": [
       "   x0_A  x0_C  x0_D  x0_G  x0_T  x1_A  x1_C  x1_D  x1_G  x1_T  ...  x58_A  \\\n",
       "0   0.0   1.0   0.0   0.0   0.0   0.0   1.0   0.0   0.0   0.0  ...    0.0   \n",
       "1   1.0   0.0   0.0   0.0   0.0   0.0   0.0   0.0   1.0   0.0  ...    0.0   \n",
       "2   0.0   0.0   0.0   1.0   0.0   1.0   0.0   0.0   0.0   0.0  ...    0.0   \n",
       "3   0.0   0.0   0.0   1.0   0.0   0.0   0.0   0.0   1.0   0.0  ...    0.0   \n",
       "4   0.0   0.0   0.0   1.0   0.0   0.0   1.0   0.0   0.0   0.0  ...    0.0   \n",
       "\n",
       "   x58_C  x58_G  x58_N  x58_T  x59_A  x59_C  x59_G  x59_N  x59_T  \n",
       "0    0.0    0.0    0.0    1.0    0.0    0.0    1.0    0.0    0.0  \n",
       "1    0.0    1.0    0.0    0.0    0.0    1.0    0.0    0.0    0.0  \n",
       "2    0.0    0.0    0.0    1.0    0.0    0.0    1.0    0.0    0.0  \n",
       "3    1.0    0.0    0.0    0.0    0.0    1.0    0.0    0.0    0.0  \n",
       "4    1.0    0.0    0.0    0.0    0.0    0.0    0.0    0.0    1.0  \n",
       "\n",
       "[5 rows x 287 columns]"
      ]
     },
     "execution_count": 4,
     "metadata": {},
     "output_type": "execute_result"
    }
   ],
   "source": [
    "# This code block encodes all 60 features of the dataset using One-Hot-Encoding. This is necessary because the first 60 features of the dataset\n",
    "# are discrete categorical values that cannot be used by machine learning models and need to be transformed into quantitative variables.\n",
    "# The output for this cell is the head of the updated features dataframe resulting from One-Hot-Encoding. It can be seen that this step greatly\n",
    "# increases the number of features.\n",
    "\n",
    "from sklearn.preprocessing import OneHotEncoder # import one hot encoding\n",
    "\n",
    "encoder = OneHotEncoder(sparse = False) # create encoder\n",
    "encoded_f = encoder.fit_transform(features) # get encoded features\n",
    "features_encoded = pd.DataFrame(encoded_f, columns= encoder.get_feature_names()) # puts encoded features into a dataframe\n",
    "features_encoded.head(5) # shows head of dataframe"
   ]
  },
  {
   "cell_type": "code",
   "execution_count": 5,
   "metadata": {},
   "outputs": [
    {
     "data": {
      "text/plain": [
       "0    0\n",
       "1    0\n",
       "2    0\n",
       "3    0\n",
       "4    0\n",
       "Name: Class, dtype: int64"
      ]
     },
     "execution_count": 5,
     "metadata": {},
     "output_type": "execute_result"
    }
   ],
   "source": [
    "# This code block replaces the target variable's values with numbers instead of strings/characters to clean up the data further.\n",
    "# The output for this cell is the head of the updated target dataframe\n",
    "\n",
    "targetvars = {'EI': 0, 'IE': 1, 'N': 2} # create dictionary for target variable\n",
    "target = target.replace(targetvars) # replace target variables with numerical equivalents\n",
    "target.head(5) # show head"
   ]
  },
  {
   "cell_type": "code",
   "execution_count": 6,
   "metadata": {},
   "outputs": [
    {
     "data": {
      "text/html": [
       "<div>\n",
       "<style scoped>\n",
       "    .dataframe tbody tr th:only-of-type {\n",
       "        vertical-align: middle;\n",
       "    }\n",
       "\n",
       "    .dataframe tbody tr th {\n",
       "        vertical-align: top;\n",
       "    }\n",
       "\n",
       "    .dataframe thead th {\n",
       "        text-align: right;\n",
       "    }\n",
       "</style>\n",
       "<table border=\"1\" class=\"dataframe\">\n",
       "  <thead>\n",
       "    <tr style=\"text-align: right;\">\n",
       "      <th></th>\n",
       "      <th>x0_A</th>\n",
       "      <th>x0_C</th>\n",
       "      <th>x0_D</th>\n",
       "      <th>x0_G</th>\n",
       "      <th>x0_T</th>\n",
       "      <th>x1_A</th>\n",
       "      <th>x1_C</th>\n",
       "      <th>x1_D</th>\n",
       "      <th>x1_G</th>\n",
       "      <th>x1_T</th>\n",
       "      <th>...</th>\n",
       "      <th>x58_C</th>\n",
       "      <th>x58_G</th>\n",
       "      <th>x58_N</th>\n",
       "      <th>x58_T</th>\n",
       "      <th>x59_A</th>\n",
       "      <th>x59_C</th>\n",
       "      <th>x59_G</th>\n",
       "      <th>x59_N</th>\n",
       "      <th>x59_T</th>\n",
       "      <th>gccontent</th>\n",
       "    </tr>\n",
       "  </thead>\n",
       "  <tbody>\n",
       "    <tr>\n",
       "      <th>0</th>\n",
       "      <td>0.0</td>\n",
       "      <td>1.0</td>\n",
       "      <td>0.0</td>\n",
       "      <td>0.0</td>\n",
       "      <td>0.0</td>\n",
       "      <td>0.0</td>\n",
       "      <td>1.0</td>\n",
       "      <td>0.0</td>\n",
       "      <td>0.0</td>\n",
       "      <td>0.0</td>\n",
       "      <td>...</td>\n",
       "      <td>0.0</td>\n",
       "      <td>0.0</td>\n",
       "      <td>0.0</td>\n",
       "      <td>1.0</td>\n",
       "      <td>0.0</td>\n",
       "      <td>0.0</td>\n",
       "      <td>1.0</td>\n",
       "      <td>0.0</td>\n",
       "      <td>0.0</td>\n",
       "      <td>0.633333</td>\n",
       "    </tr>\n",
       "    <tr>\n",
       "      <th>1</th>\n",
       "      <td>1.0</td>\n",
       "      <td>0.0</td>\n",
       "      <td>0.0</td>\n",
       "      <td>0.0</td>\n",
       "      <td>0.0</td>\n",
       "      <td>0.0</td>\n",
       "      <td>0.0</td>\n",
       "      <td>0.0</td>\n",
       "      <td>1.0</td>\n",
       "      <td>0.0</td>\n",
       "      <td>...</td>\n",
       "      <td>0.0</td>\n",
       "      <td>1.0</td>\n",
       "      <td>0.0</td>\n",
       "      <td>0.0</td>\n",
       "      <td>0.0</td>\n",
       "      <td>1.0</td>\n",
       "      <td>0.0</td>\n",
       "      <td>0.0</td>\n",
       "      <td>0.0</td>\n",
       "      <td>0.800000</td>\n",
       "    </tr>\n",
       "    <tr>\n",
       "      <th>2</th>\n",
       "      <td>0.0</td>\n",
       "      <td>0.0</td>\n",
       "      <td>0.0</td>\n",
       "      <td>1.0</td>\n",
       "      <td>0.0</td>\n",
       "      <td>1.0</td>\n",
       "      <td>0.0</td>\n",
       "      <td>0.0</td>\n",
       "      <td>0.0</td>\n",
       "      <td>0.0</td>\n",
       "      <td>...</td>\n",
       "      <td>0.0</td>\n",
       "      <td>0.0</td>\n",
       "      <td>0.0</td>\n",
       "      <td>1.0</td>\n",
       "      <td>0.0</td>\n",
       "      <td>0.0</td>\n",
       "      <td>1.0</td>\n",
       "      <td>0.0</td>\n",
       "      <td>0.0</td>\n",
       "      <td>0.683333</td>\n",
       "    </tr>\n",
       "    <tr>\n",
       "      <th>3</th>\n",
       "      <td>0.0</td>\n",
       "      <td>0.0</td>\n",
       "      <td>0.0</td>\n",
       "      <td>1.0</td>\n",
       "      <td>0.0</td>\n",
       "      <td>0.0</td>\n",
       "      <td>0.0</td>\n",
       "      <td>0.0</td>\n",
       "      <td>1.0</td>\n",
       "      <td>0.0</td>\n",
       "      <td>...</td>\n",
       "      <td>1.0</td>\n",
       "      <td>0.0</td>\n",
       "      <td>0.0</td>\n",
       "      <td>0.0</td>\n",
       "      <td>0.0</td>\n",
       "      <td>1.0</td>\n",
       "      <td>0.0</td>\n",
       "      <td>0.0</td>\n",
       "      <td>0.0</td>\n",
       "      <td>0.650000</td>\n",
       "    </tr>\n",
       "    <tr>\n",
       "      <th>4</th>\n",
       "      <td>0.0</td>\n",
       "      <td>0.0</td>\n",
       "      <td>0.0</td>\n",
       "      <td>1.0</td>\n",
       "      <td>0.0</td>\n",
       "      <td>0.0</td>\n",
       "      <td>1.0</td>\n",
       "      <td>0.0</td>\n",
       "      <td>0.0</td>\n",
       "      <td>0.0</td>\n",
       "      <td>...</td>\n",
       "      <td>1.0</td>\n",
       "      <td>0.0</td>\n",
       "      <td>0.0</td>\n",
       "      <td>0.0</td>\n",
       "      <td>0.0</td>\n",
       "      <td>0.0</td>\n",
       "      <td>0.0</td>\n",
       "      <td>0.0</td>\n",
       "      <td>1.0</td>\n",
       "      <td>0.666667</td>\n",
       "    </tr>\n",
       "  </tbody>\n",
       "</table>\n",
       "<p>5 rows × 288 columns</p>\n",
       "</div>"
      ],
      "text/plain": [
       "   x0_A  x0_C  x0_D  x0_G  x0_T  x1_A  x1_C  x1_D  x1_G  x1_T  ...  x58_C  \\\n",
       "0   0.0   1.0   0.0   0.0   0.0   0.0   1.0   0.0   0.0   0.0  ...    0.0   \n",
       "1   1.0   0.0   0.0   0.0   0.0   0.0   0.0   0.0   1.0   0.0  ...    0.0   \n",
       "2   0.0   0.0   0.0   1.0   0.0   1.0   0.0   0.0   0.0   0.0  ...    0.0   \n",
       "3   0.0   0.0   0.0   1.0   0.0   0.0   0.0   0.0   1.0   0.0  ...    1.0   \n",
       "4   0.0   0.0   0.0   1.0   0.0   0.0   1.0   0.0   0.0   0.0  ...    1.0   \n",
       "\n",
       "   x58_G  x58_N  x58_T  x59_A  x59_C  x59_G  x59_N  x59_T  gccontent  \n",
       "0    0.0    0.0    1.0    0.0    0.0    1.0    0.0    0.0   0.633333  \n",
       "1    1.0    0.0    0.0    0.0    1.0    0.0    0.0    0.0   0.800000  \n",
       "2    0.0    0.0    1.0    0.0    0.0    1.0    0.0    0.0   0.683333  \n",
       "3    0.0    0.0    0.0    0.0    1.0    0.0    0.0    0.0   0.650000  \n",
       "4    0.0    0.0    0.0    0.0    0.0    0.0    0.0    1.0   0.666667  \n",
       "\n",
       "[5 rows x 288 columns]"
      ]
     },
     "execution_count": 6,
     "metadata": {},
     "output_type": "execute_result"
    }
   ],
   "source": [
    "# This code block allows us to perform feature extraction on our data to find the GC content of each row (sequence). GC content is a useful metric to\n",
    "# quantify the nucleotide base content of a genetic sequence. GC content is simply the ratio of G and C nucleotide bases to other bases in a sequence\n",
    "# and provides information on the contents of the sequence. Other, similar metrics such as AT content are not calculated (and rarely are in similar\n",
    "# problems) as they provide no additional information since knowing the G and C content of a gentic sequence provides the AT content (AT content = 1-GC content)\n",
    "# The output for this cell shows the head of the updated features dataframe with GC content\n",
    "\n",
    "counts = features.apply(pd.Series.value_counts, axis=1)[['C', 'G', 'S']] # get count of C, and G, and S (since S is C or G)\n",
    "# D, N, R are not included since we cannot be sure it's G or C.\n",
    "\n",
    "counts = counts.fillna(0) # gets rid of Null values since if there is no G or C, the gc content is 0\n",
    "counts['gccontent'] = (counts['C'] + counts['G']) / 60  # get gccontent\n",
    "featurese = pd.concat((features_encoded, counts['gccontent']), axis=1) # add gccontent to features\n",
    "featurese.head(5) # show head of features"
   ]
  },
  {
   "cell_type": "code",
   "execution_count": 7,
   "metadata": {},
   "outputs": [
    {
     "name": "stderr",
     "output_type": "stream",
     "text": [
      "/Users/zacharydawson/opt/anaconda3/lib/python3.8/site-packages/sklearn/feature_selection/_univariate_selection.py:114: UserWarning: Features [78] are constant.\n",
      "  warnings.warn(\"Features %s are constant.\" % constant_features_idx,\n",
      "/Users/zacharydawson/opt/anaconda3/lib/python3.8/site-packages/sklearn/feature_selection/_univariate_selection.py:116: RuntimeWarning: invalid value encountered in true_divide\n",
      "  f = msb / msw\n"
     ]
    },
    {
     "data": {
      "text/plain": [
       "Index(['x8_G', 'x9_G', 'x15_A', 'x15_T', 'x16_A', 'x16_T', 'x17_A', 'x17_G',\n",
       "       'x17_T', 'x18_A', 'x18_G', 'x18_T', 'x19_A', 'x19_T', 'x20_A', 'x20_G',\n",
       "       'x20_T', 'x21_A', 'x21_G', 'x21_T', 'x22_A', 'x22_C', 'x22_G', 'x22_T',\n",
       "       'x23_A', 'x23_C', 'x23_G', 'x24_A', 'x24_C', 'x24_G', 'x24_T', 'x25_A',\n",
       "       'x25_G', 'x25_T', 'x27_A', 'x27_C', 'x27_G', 'x28_A', 'x28_C', 'x28_G',\n",
       "       'x28_T', 'x29_A', 'x29_C', 'x29_G', 'x29_T', 'x30_A', 'x30_C', 'x30_G',\n",
       "       'x30_T', 'x31_A', 'x31_C', 'x31_G', 'x31_T', 'x32_A', 'x32_C', 'x32_G',\n",
       "       'x32_T', 'x33_A', 'x33_C', 'x33_T', 'x34_A', 'x34_C', 'x34_G', 'x34_T',\n",
       "       'x35_T', 'gccontent'],\n",
       "      dtype='object')"
      ]
     },
     "execution_count": 7,
     "metadata": {},
     "output_type": "execute_result"
    }
   ],
   "source": [
    "# This code block allows feature selection of our feature variables. Univariate feature selection is used to select the most significant features \n",
    "# in order to create a model with the best results. The value for k of the number of features to select was found by hypertuning the parameter.\n",
    "# This was necessary to ensure significant features were not eliminated while insignificant features were eliminated and unable to adversely affect\n",
    "# the models' performance. The list of selected features used to create our model is output by this cell. A pattern can already be noticed in the \n",
    "# features that are the most significant. The chosen features represent the nucleotide bases very close to the center of each genetic sequence. \n",
    "# GC content was also selected.\n",
    "\n",
    "from sklearn.feature_selection import f_classif # import feature selection for classification\n",
    "from sklearn.feature_selection import SelectKBest # import feature selection\n",
    "from sklearn.model_selection import train_test_split # import train test split\n",
    "\n",
    "X_train, X_test, y_train, y_test = train_test_split(featurese, target, random_state=3000) # split dataset\n",
    "select = SelectKBest(score_func=f_classif, k=66) # create selector\n",
    "select.fit(X_train, y_train) # fit selector to training set\n",
    "features_selected = select.transform(featurese) # transform features dataframe to features kept\n",
    "X_train_selected = select.transform(X_train) # transform training set\n",
    "X_test_selected = select.transform(X_test) # transform testing set\n",
    "selected_feature_list = featurese.columns[select.get_support()] # variable containing features used\n",
    "selected_feature_list # outputs features used"
   ]
  },
  {
   "cell_type": "markdown",
   "metadata": {},
   "source": [
    "### 3.2. Data Exploration\n",
    "* Generate appropriate data visualizations for your key variables identified in the previous section\n",
    "* You should have at least three visualizations (and at least two different visualization types)\n",
    "* For each visualization provide an explanation regarding the variables involved and an interpretation of the graph.\n",
    "* If you are using Plotly, insert your visualizations as images as well (upload the graph images to an online source, e.g. github, and embed those into the cells in Jupyter Notebook). This is a requirement.\n"
   ]
  },
  {
   "cell_type": "code",
   "execution_count": 8,
   "metadata": {},
   "outputs": [
    {
     "data": {
      "image/png": "[encoded data removed]",
      "text/plain": [
       "<Figure size 432x288 with 1 Axes>"
      ]
     },
     "metadata": {
      "needs_background": "light"
     },
     "output_type": "display_data"
    }
   ],
   "source": [
    "import matplotlib.pyplot as plt #\n",
    "\n",
    "base_counts = features.replace(['D', 'N', 'R', 'S'], 'ambig').apply(pd.Series.value_counts).fillna(0)\n",
    "positions = list(range(-30,0)) + list(range(1, 31))\n",
    "plt.bar(positions, base_counts.loc['A'], color = 'blue', width=1)\n",
    "plt.bar(positions, base_counts.loc['T'], color = 'gold', bottom = base_counts.loc['A'], width=1)\n",
    "plt.bar(positions, base_counts.loc['C'], color = 'red', bottom= base_counts.loc['A'] + base_counts.loc['T'], width=1)\n",
    "plt.bar(positions, base_counts.loc['G'], color = 'green',bottom=base_counts.loc['A'] + base_counts.loc['T'] + base_counts.loc['C'], width=1)\n",
    "plt.bar(positions, base_counts.loc['ambig'], color = 'grey', bottom= base_counts.loc['A'] + base_counts.loc['T'] + base_counts.loc['C'] + base_counts.loc['G'], width=1)\n",
    "plt.xlabel('Position')\n",
    "plt.ylabel('Frequency')\n",
    "plt.legend(['A', 'C', 'T', 'G', 'Ambig.'])\n",
    "plt.show()"
   ]
  },
  {
   "cell_type": "code",
   "execution_count": 9,
   "metadata": {},
   "outputs": [],
   "source": [
    "def calc_percent_basepair(text, letter):\n",
    "    freq = text.count(letter)\n",
    "    percent = float(freq) / float(len(text))\n",
    "    return percent"
   ]
  },
  {
   "cell_type": "code",
   "execution_count": 10,
   "metadata": {},
   "outputs": [
    {
     "data": {
      "text/html": [
       "<div>\n",
       "<style scoped>\n",
       "    .dataframe tbody tr th:only-of-type {\n",
       "        vertical-align: middle;\n",
       "    }\n",
       "\n",
       "    .dataframe tbody tr th {\n",
       "        vertical-align: top;\n",
       "    }\n",
       "\n",
       "    .dataframe thead th {\n",
       "        text-align: right;\n",
       "    }\n",
       "</style>\n",
       "<table border=\"1\" class=\"dataframe\">\n",
       "  <thead>\n",
       "    <tr style=\"text-align: right;\">\n",
       "      <th></th>\n",
       "      <th>EI</th>\n",
       "      <th>IE</th>\n",
       "      <th>N</th>\n",
       "    </tr>\n",
       "  </thead>\n",
       "  <tbody>\n",
       "    <tr>\n",
       "      <th>A</th>\n",
       "      <td>0.214388</td>\n",
       "      <td>0.199135</td>\n",
       "      <td>0.245753</td>\n",
       "    </tr>\n",
       "    <tr>\n",
       "      <th>T</th>\n",
       "      <td>0.210687</td>\n",
       "      <td>0.255922</td>\n",
       "      <td>0.238750</td>\n",
       "    </tr>\n",
       "    <tr>\n",
       "      <th>C</th>\n",
       "      <td>0.237688</td>\n",
       "      <td>0.296014</td>\n",
       "      <td>0.246664</td>\n",
       "    </tr>\n",
       "    <tr>\n",
       "      <th>G</th>\n",
       "      <td>0.304012</td>\n",
       "      <td>0.216608</td>\n",
       "      <td>0.252330</td>\n",
       "    </tr>\n",
       "    <tr>\n",
       "      <th>Undetermined</th>\n",
       "      <td>0.033225</td>\n",
       "      <td>0.032321</td>\n",
       "      <td>0.016502</td>\n",
       "    </tr>\n",
       "  </tbody>\n",
       "</table>\n",
       "</div>"
      ],
      "text/plain": [
       "                    EI        IE         N\n",
       "A             0.214388  0.199135  0.245753\n",
       "T             0.210687  0.255922  0.238750\n",
       "C             0.237688  0.296014  0.246664\n",
       "G             0.304012  0.216608  0.252330\n",
       "Undetermined  0.033225  0.032321  0.016502"
      ]
     },
     "execution_count": 10,
     "metadata": {},
     "output_type": "execute_result"
    }
   ],
   "source": [
    "# Concatenate all reads for each sample and group by class (IE, EI, N)\n",
    "concatenated_reads = pd.DataFrame({'sum': df.sum(axis=1), 'Class': df['Class']}).groupby('Class')\n",
    "\n",
    "percentage = {}\n",
    "for name, group in concatenated_reads: # Iterate trhough groups to find percentage of each BasePair\n",
    "    all_reads = group.sum()['sum'] # Concatenate all reads for each group\n",
    "    total_percent = 0\n",
    "    class_dict = {}\n",
    "    for base in ['A', 'T', 'C', 'G']: # iterate through each basepair\n",
    "        percent = calc_percent_basepair(all_reads, base) # calculate percentage of basepair\n",
    "        class_dict.update({base: percent})\n",
    "        total_percent += percent\n",
    "    \n",
    "    class_dict.update({'Undetermined': 1 - total_percent}) # calculate undetermined percentage\n",
    "    percentage.update({name: class_dict})\n",
    "    \n",
    "\n",
    "final_df = pd.DataFrame.from_dict(percentage) # create dataframe from read percentages\n",
    "final_df"
   ]
  },
  {
   "cell_type": "code",
   "execution_count": 11,
   "metadata": {},
   "outputs": [
    {
     "data": {
      "image/png": "[encoded data removed]",
      "text/plain": [
       "<Figure size 360x360 with 1 Axes>"
      ]
     },
     "metadata": {},
     "output_type": "display_data"
    },
    {
     "data": {
      "image/png": "[encoded data removed]",
      "text/plain": [
       "<Figure size 360x360 with 1 Axes>"
      ]
     },
     "metadata": {},
     "output_type": "display_data"
    },
    {
     "data": {
      "image/png": "[encoded data removed]",
      "text/plain": [
       "<Figure size 360x360 with 1 Axes>"
      ]
     },
     "metadata": {},
     "output_type": "display_data"
    }
   ],
   "source": [
    "#create plots\n",
    "\n",
    "#Extron/Intron\n",
    "final_df.plot(kind='pie', y='EI', figsize=(5, 5), colors = ['blue', 'gold', 'red', 'green', 'grey'])\n",
    "# final_df.plot.pie(y='EI', figsize=(5, 5), colors = ['blue', 'gold', 'red', 'green', 'grey']) # create plot\n",
    "plt.title('Extron/Intron') # add title\n",
    "plt.legend(loc=\"lower right\",\n",
    "           borderaxespad=0.1,\n",
    "           bbox_to_anchor=(1.3, 0.6)) # move legend off the plot\n",
    "plt.show()\n",
    "\n",
    "#Intron/Extrong\n",
    "final_df.plot.pie(y='IE', figsize=(5, 5), colors = ['blue', 'gold', 'red', 'green', 'grey']) # create plot\n",
    "plt.title('Intron/Extron') # add title\n",
    "plt.legend(loc=\"lower right\",\n",
    "           borderaxespad=0.1,\n",
    "           bbox_to_anchor=(1.3, 0.6)) # move legend off the plot\n",
    "plt.show()\n",
    "\n",
    "#Non-splice\n",
    "final_df.plot.pie(y='N', figsize=(5, 5), colors = ['blue', 'gold', 'red', 'green', 'grey']) # create plot\n",
    "plt.title('Non-splice') # add title\n",
    "plt.legend(loc=\"lower right\",\n",
    "           borderaxespad=0.1,\n",
    "           bbox_to_anchor=(1.3, 0.6)) # move legend off the plot\n",
    "plt.show()"
   ]
  },
  {
   "cell_type": "code",
   "execution_count": 12,
   "metadata": {},
   "outputs": [
    {
     "data": {
      "text/html": [
       "<div>\n",
       "<style scoped>\n",
       "    .dataframe tbody tr th:only-of-type {\n",
       "        vertical-align: middle;\n",
       "    }\n",
       "\n",
       "    .dataframe tbody tr th {\n",
       "        vertical-align: top;\n",
       "    }\n",
       "\n",
       "    .dataframe thead th {\n",
       "        text-align: right;\n",
       "    }\n",
       "</style>\n",
       "<table border=\"1\" class=\"dataframe\">\n",
       "  <thead>\n",
       "    <tr style=\"text-align: right;\">\n",
       "      <th></th>\n",
       "      <th>attribute_1</th>\n",
       "      <th>attribute_2</th>\n",
       "      <th>attribute_3</th>\n",
       "      <th>attribute_4</th>\n",
       "      <th>attribute_5</th>\n",
       "      <th>attribute_6</th>\n",
       "      <th>attribute_7</th>\n",
       "      <th>attribute_8</th>\n",
       "      <th>attribute_9</th>\n",
       "      <th>attribute_10</th>\n",
       "      <th>...</th>\n",
       "      <th>attribute_51</th>\n",
       "      <th>attribute_52</th>\n",
       "      <th>attribute_53</th>\n",
       "      <th>attribute_54</th>\n",
       "      <th>attribute_55</th>\n",
       "      <th>attribute_56</th>\n",
       "      <th>attribute_57</th>\n",
       "      <th>attribute_58</th>\n",
       "      <th>attribute_59</th>\n",
       "      <th>attribute_60</th>\n",
       "    </tr>\n",
       "  </thead>\n",
       "  <tbody>\n",
       "    <tr>\n",
       "      <th>0</th>\n",
       "      <td>C</td>\n",
       "      <td>C</td>\n",
       "      <td>A</td>\n",
       "      <td>G</td>\n",
       "      <td>C</td>\n",
       "      <td>T</td>\n",
       "      <td>G</td>\n",
       "      <td>C</td>\n",
       "      <td>A</td>\n",
       "      <td>T</td>\n",
       "      <td>...</td>\n",
       "      <td>A</td>\n",
       "      <td>G</td>\n",
       "      <td>C</td>\n",
       "      <td>C</td>\n",
       "      <td>A</td>\n",
       "      <td>G</td>\n",
       "      <td>T</td>\n",
       "      <td>C</td>\n",
       "      <td>T</td>\n",
       "      <td>G</td>\n",
       "    </tr>\n",
       "    <tr>\n",
       "      <th>1</th>\n",
       "      <td>A</td>\n",
       "      <td>G</td>\n",
       "      <td>A</td>\n",
       "      <td>C</td>\n",
       "      <td>C</td>\n",
       "      <td>C</td>\n",
       "      <td>G</td>\n",
       "      <td>C</td>\n",
       "      <td>C</td>\n",
       "      <td>G</td>\n",
       "      <td>...</td>\n",
       "      <td>G</td>\n",
       "      <td>T</td>\n",
       "      <td>G</td>\n",
       "      <td>C</td>\n",
       "      <td>C</td>\n",
       "      <td>C</td>\n",
       "      <td>C</td>\n",
       "      <td>C</td>\n",
       "      <td>G</td>\n",
       "      <td>C</td>\n",
       "    </tr>\n",
       "    <tr>\n",
       "      <th>2</th>\n",
       "      <td>G</td>\n",
       "      <td>A</td>\n",
       "      <td>G</td>\n",
       "      <td>G</td>\n",
       "      <td>T</td>\n",
       "      <td>G</td>\n",
       "      <td>A</td>\n",
       "      <td>A</td>\n",
       "      <td>G</td>\n",
       "      <td>G</td>\n",
       "      <td>...</td>\n",
       "      <td>C</td>\n",
       "      <td>A</td>\n",
       "      <td>C</td>\n",
       "      <td>G</td>\n",
       "      <td>G</td>\n",
       "      <td>G</td>\n",
       "      <td>G</td>\n",
       "      <td>A</td>\n",
       "      <td>T</td>\n",
       "      <td>G</td>\n",
       "    </tr>\n",
       "    <tr>\n",
       "      <th>3</th>\n",
       "      <td>G</td>\n",
       "      <td>G</td>\n",
       "      <td>G</td>\n",
       "      <td>C</td>\n",
       "      <td>T</td>\n",
       "      <td>G</td>\n",
       "      <td>C</td>\n",
       "      <td>G</td>\n",
       "      <td>T</td>\n",
       "      <td>T</td>\n",
       "      <td>...</td>\n",
       "      <td>G</td>\n",
       "      <td>G</td>\n",
       "      <td>T</td>\n",
       "      <td>T</td>\n",
       "      <td>T</td>\n",
       "      <td>T</td>\n",
       "      <td>C</td>\n",
       "      <td>C</td>\n",
       "      <td>C</td>\n",
       "      <td>C</td>\n",
       "    </tr>\n",
       "    <tr>\n",
       "      <th>4</th>\n",
       "      <td>G</td>\n",
       "      <td>C</td>\n",
       "      <td>T</td>\n",
       "      <td>C</td>\n",
       "      <td>A</td>\n",
       "      <td>G</td>\n",
       "      <td>C</td>\n",
       "      <td>C</td>\n",
       "      <td>C</td>\n",
       "      <td>C</td>\n",
       "      <td>...</td>\n",
       "      <td>C</td>\n",
       "      <td>C</td>\n",
       "      <td>T</td>\n",
       "      <td>T</td>\n",
       "      <td>G</td>\n",
       "      <td>A</td>\n",
       "      <td>C</td>\n",
       "      <td>C</td>\n",
       "      <td>C</td>\n",
       "      <td>T</td>\n",
       "    </tr>\n",
       "    <tr>\n",
       "      <th>...</th>\n",
       "      <td>...</td>\n",
       "      <td>...</td>\n",
       "      <td>...</td>\n",
       "      <td>...</td>\n",
       "      <td>...</td>\n",
       "      <td>...</td>\n",
       "      <td>...</td>\n",
       "      <td>...</td>\n",
       "      <td>...</td>\n",
       "      <td>...</td>\n",
       "      <td>...</td>\n",
       "      <td>...</td>\n",
       "      <td>...</td>\n",
       "      <td>...</td>\n",
       "      <td>...</td>\n",
       "      <td>...</td>\n",
       "      <td>...</td>\n",
       "      <td>...</td>\n",
       "      <td>...</td>\n",
       "      <td>...</td>\n",
       "      <td>...</td>\n",
       "    </tr>\n",
       "    <tr>\n",
       "      <th>3185</th>\n",
       "      <td>T</td>\n",
       "      <td>C</td>\n",
       "      <td>T</td>\n",
       "      <td>C</td>\n",
       "      <td>T</td>\n",
       "      <td>T</td>\n",
       "      <td>C</td>\n",
       "      <td>C</td>\n",
       "      <td>C</td>\n",
       "      <td>T</td>\n",
       "      <td>...</td>\n",
       "      <td>T</td>\n",
       "      <td>T</td>\n",
       "      <td>C</td>\n",
       "      <td>C</td>\n",
       "      <td>T</td>\n",
       "      <td>C</td>\n",
       "      <td>T</td>\n",
       "      <td>C</td>\n",
       "      <td>T</td>\n",
       "      <td>T</td>\n",
       "    </tr>\n",
       "    <tr>\n",
       "      <th>3186</th>\n",
       "      <td>G</td>\n",
       "      <td>A</td>\n",
       "      <td>G</td>\n",
       "      <td>C</td>\n",
       "      <td>T</td>\n",
       "      <td>C</td>\n",
       "      <td>C</td>\n",
       "      <td>C</td>\n",
       "      <td>A</td>\n",
       "      <td>G</td>\n",
       "      <td>...</td>\n",
       "      <td>G</td>\n",
       "      <td>G</td>\n",
       "      <td>C</td>\n",
       "      <td>A</td>\n",
       "      <td>C</td>\n",
       "      <td>A</td>\n",
       "      <td>G</td>\n",
       "      <td>C</td>\n",
       "      <td>T</td>\n",
       "      <td>G</td>\n",
       "    </tr>\n",
       "    <tr>\n",
       "      <th>3187</th>\n",
       "      <td>T</td>\n",
       "      <td>C</td>\n",
       "      <td>T</td>\n",
       "      <td>C</td>\n",
       "      <td>G</td>\n",
       "      <td>G</td>\n",
       "      <td>G</td>\n",
       "      <td>G</td>\n",
       "      <td>G</td>\n",
       "      <td>C</td>\n",
       "      <td>...</td>\n",
       "      <td>C</td>\n",
       "      <td>G</td>\n",
       "      <td>T</td>\n",
       "      <td>G</td>\n",
       "      <td>T</td>\n",
       "      <td>G</td>\n",
       "      <td>T</td>\n",
       "      <td>G</td>\n",
       "      <td>T</td>\n",
       "      <td>C</td>\n",
       "    </tr>\n",
       "    <tr>\n",
       "      <th>3188</th>\n",
       "      <td>A</td>\n",
       "      <td>T</td>\n",
       "      <td>T</td>\n",
       "      <td>C</td>\n",
       "      <td>T</td>\n",
       "      <td>A</td>\n",
       "      <td>C</td>\n",
       "      <td>T</td>\n",
       "      <td>T</td>\n",
       "      <td>A</td>\n",
       "      <td>...</td>\n",
       "      <td>A</td>\n",
       "      <td>C</td>\n",
       "      <td>C</td>\n",
       "      <td>A</td>\n",
       "      <td>A</td>\n",
       "      <td>A</td>\n",
       "      <td>A</td>\n",
       "      <td>C</td>\n",
       "      <td>A</td>\n",
       "      <td>A</td>\n",
       "    </tr>\n",
       "    <tr>\n",
       "      <th>3189</th>\n",
       "      <td>A</td>\n",
       "      <td>G</td>\n",
       "      <td>G</td>\n",
       "      <td>C</td>\n",
       "      <td>T</td>\n",
       "      <td>G</td>\n",
       "      <td>C</td>\n",
       "      <td>C</td>\n",
       "      <td>T</td>\n",
       "      <td>A</td>\n",
       "      <td>...</td>\n",
       "      <td>A</td>\n",
       "      <td>A</td>\n",
       "      <td>G</td>\n",
       "      <td>T</td>\n",
       "      <td>A</td>\n",
       "      <td>C</td>\n",
       "      <td>C</td>\n",
       "      <td>A</td>\n",
       "      <td>T</td>\n",
       "      <td>T</td>\n",
       "    </tr>\n",
       "  </tbody>\n",
       "</table>\n",
       "<p>3190 rows × 60 columns</p>\n",
       "</div>"
      ],
      "text/plain": [
       "     attribute_1 attribute_2 attribute_3 attribute_4 attribute_5 attribute_6  \\\n",
       "0              C           C           A           G           C           T   \n",
       "1              A           G           A           C           C           C   \n",
       "2              G           A           G           G           T           G   \n",
       "3              G           G           G           C           T           G   \n",
       "4              G           C           T           C           A           G   \n",
       "...          ...         ...         ...         ...         ...         ...   \n",
       "3185           T           C           T           C           T           T   \n",
       "3186           G           A           G           C           T           C   \n",
       "3187           T           C           T           C           G           G   \n",
       "3188           A           T           T           C           T           A   \n",
       "3189           A           G           G           C           T           G   \n",
       "\n",
       "     attribute_7 attribute_8 attribute_9 attribute_10  ... attribute_51  \\\n",
       "0              G           C           A            T  ...            A   \n",
       "1              G           C           C            G  ...            G   \n",
       "2              A           A           G            G  ...            C   \n",
       "3              C           G           T            T  ...            G   \n",
       "4              C           C           C            C  ...            C   \n",
       "...          ...         ...         ...          ...  ...          ...   \n",
       "3185           C           C           C            T  ...            T   \n",
       "3186           C           C           A            G  ...            G   \n",
       "3187           G           G           G            C  ...            C   \n",
       "3188           C           T           T            A  ...            A   \n",
       "3189           C           C           T            A  ...            A   \n",
       "\n",
       "     attribute_52 attribute_53 attribute_54 attribute_55 attribute_56  \\\n",
       "0               G            C            C            A            G   \n",
       "1               T            G            C            C            C   \n",
       "2               A            C            G            G            G   \n",
       "3               G            T            T            T            T   \n",
       "4               C            T            T            G            A   \n",
       "...           ...          ...          ...          ...          ...   \n",
       "3185            T            C            C            T            C   \n",
       "3186            G            C            A            C            A   \n",
       "3187            G            T            G            T            G   \n",
       "3188            C            C            A            A            A   \n",
       "3189            A            G            T            A            C   \n",
       "\n",
       "     attribute_57 attribute_58 attribute_59 attribute_60  \n",
       "0               T            C            T            G  \n",
       "1               C            C            G            C  \n",
       "2               G            A            T            G  \n",
       "3               C            C            C            C  \n",
       "4               C            C            C            T  \n",
       "...           ...          ...          ...          ...  \n",
       "3185            T            C            T            T  \n",
       "3186            G            C            T            G  \n",
       "3187            T            G            T            C  \n",
       "3188            A            C            A            A  \n",
       "3189            C            A            T            T  \n",
       "\n",
       "[3190 rows x 60 columns]"
      ]
     },
     "execution_count": 12,
     "metadata": {},
     "output_type": "execute_result"
    }
   ],
   "source": [
    "features"
   ]
  },
  {
   "cell_type": "code",
   "execution_count": 31,
   "metadata": {},
   "outputs": [
    {
     "data": {
      "application/vnd.plotly.v1+json": {
       "config": {
        "plotlyServerURL": "https://plot.ly"
       },
       "data": [
        {
         "alignmentgroup": "True",
         "hovertemplate": "Sequence Position=%{x}<br>Included in Model=%{y}<extra></extra>",
         "legendgroup": "",
         "marker": {
          "color": "#636efa"
         },
         "name": "",
         "offsetgroup": "",
         "orientation": "v",
         "showlegend": false,
         "textposition": "auto",
         "type": "bar",
         "x": [
          1,
          2,
          3,
          4,
          5,
          6,
          7,
          8,
          9,
          10,
          11,
          12,
          13,
          14,
          15,
          16,
          17,
          18,
          19,
          20,
          21,
          22,
          23,
          24,
          25,
          26,
          27,
          28,
          29,
          30,
          31,
          32,
          33,
          34,
          35,
          36,
          37,
          38,
          39,
          40,
          41,
          42,
          43,
          44,
          45,
          46,
          47,
          48,
          49,
          50,
          51,
          52,
          53,
          54,
          55,
          56,
          57,
          58,
          59,
          60
         ],
         "xaxis": "x",
         "y": [
          false,
          false,
          false,
          false,
          false,
          false,
          false,
          false,
          true,
          true,
          false,
          false,
          false,
          false,
          false,
          true,
          true,
          true,
          true,
          true,
          true,
          true,
          true,
          true,
          true,
          true,
          false,
          true,
          true,
          true,
          true,
          true,
          true,
          true,
          true,
          false,
          false,
          false,
          false,
          false,
          false,
          false,
          false,
          false,
          false,
          false,
          false,
          false,
          false,
          false,
          false,
          false,
          false,
          false,
          false,
          false,
          false,
          false,
          false,
          false
         ],
         "yaxis": "y"
        }
       ],
       "layout": {
        "barmode": "relative",
        "legend": {
         "tracegroupgap": 0
        },
        "margin": {
         "t": 60
        },
        "template": {
         "data": {
          "bar": [
           {
            "error_x": {
             "color": "#2a3f5f"
            },
            "error_y": {
             "color": "#2a3f5f"
            },
            "marker": {
             "line": {
              "color": "#E5ECF6",
              "width": 0.5
             }
            },
            "type": "bar"
           }
          ],
          "barpolar": [
           {
            "marker": {
             "line": {
              "color": "#E5ECF6",
              "width": 0.5
             }
            },
            "type": "barpolar"
           }
          ],
          "carpet": [
           {
            "aaxis": {
             "endlinecolor": "#2a3f5f",
             "gridcolor": "white",
             "linecolor": "white",
             "minorgridcolor": "white",
             "startlinecolor": "#2a3f5f"
            },
            "baxis": {
             "endlinecolor": "#2a3f5f",
             "gridcolor": "white",
             "linecolor": "white",
             "minorgridcolor": "white",
             "startlinecolor": "#2a3f5f"
            },
            "type": "carpet"
           }
          ],
          "choropleth": [
           {
            "colorbar": {
             "outlinewidth": 0,
             "ticks": ""
            },
            "type": "choropleth"
           }
          ],
          "contour": [
           {
            "colorbar": {
             "outlinewidth": 0,
             "ticks": ""
            },
            "colorscale": [
             [
              0,
              "#0d0887"
             ],
             [
              0.1111111111111111,
              "#46039f"
             ],
             [
              0.2222222222222222,
              "#7201a8"
             ],
             [
              0.3333333333333333,
              "#9c179e"
             ],
             [
              0.4444444444444444,
              "#bd3786"
             ],
             [
              0.5555555555555556,
              "#d8576b"
             ],
             [
              0.6666666666666666,
              "#ed7953"
             ],
             [
              0.7777777777777778,
              "#fb9f3a"
             ],
             [
              0.8888888888888888,
              "#fdca26"
             ],
             [
              1,
              "#f0f921"
             ]
            ],
            "type": "contour"
           }
          ],
          "contourcarpet": [
           {
            "colorbar": {
             "outlinewidth": 0,
             "ticks": ""
            },
            "type": "contourcarpet"
           }
          ],
          "heatmap": [
           {
            "colorbar": {
             "outlinewidth": 0,
             "ticks": ""
            },
            "colorscale": [
             [
              0,
              "#0d0887"
             ],
             [
              0.1111111111111111,
              "#46039f"
             ],
             [
              0.2222222222222222,
              "#7201a8"
             ],
             [
              0.3333333333333333,
              "#9c179e"
             ],
             [
              0.4444444444444444,
              "#bd3786"
             ],
             [
              0.5555555555555556,
              "#d8576b"
             ],
             [
              0.6666666666666666,
              "#ed7953"
             ],
             [
              0.7777777777777778,
              "#fb9f3a"
             ],
             [
              0.8888888888888888,
              "#fdca26"
             ],
             [
              1,
              "#f0f921"
             ]
            ],
            "type": "heatmap"
           }
          ],
          "heatmapgl": [
           {
            "colorbar": {
             "outlinewidth": 0,
             "ticks": ""
            },
            "colorscale": [
             [
              0,
              "#0d0887"
             ],
             [
              0.1111111111111111,
              "#46039f"
             ],
             [
              0.2222222222222222,
              "#7201a8"
             ],
             [
              0.3333333333333333,
              "#9c179e"
             ],
             [
              0.4444444444444444,
              "#bd3786"
             ],
             [
              0.5555555555555556,
              "#d8576b"
             ],
             [
              0.6666666666666666,
              "#ed7953"
             ],
             [
              0.7777777777777778,
              "#fb9f3a"
             ],
             [
              0.8888888888888888,
              "#fdca26"
             ],
             [
              1,
              "#f0f921"
             ]
            ],
            "type": "heatmapgl"
           }
          ],
          "histogram": [
           {
            "marker": {
             "colorbar": {
              "outlinewidth": 0,
              "ticks": ""
             }
            },
            "type": "histogram"
           }
          ],
          "histogram2d": [
           {
            "colorbar": {
             "outlinewidth": 0,
             "ticks": ""
            },
            "colorscale": [
             [
              0,
              "#0d0887"
             ],
             [
              0.1111111111111111,
              "#46039f"
             ],
             [
              0.2222222222222222,
              "#7201a8"
             ],
             [
              0.3333333333333333,
              "#9c179e"
             ],
             [
              0.4444444444444444,
              "#bd3786"
             ],
             [
              0.5555555555555556,
              "#d8576b"
             ],
             [
              0.6666666666666666,
              "#ed7953"
             ],
             [
              0.7777777777777778,
              "#fb9f3a"
             ],
             [
              0.8888888888888888,
              "#fdca26"
             ],
             [
              1,
              "#f0f921"
             ]
            ],
            "type": "histogram2d"
           }
          ],
          "histogram2dcontour": [
           {
            "colorbar": {
             "outlinewidth": 0,
             "ticks": ""
            },
            "colorscale": [
             [
              0,
              "#0d0887"
             ],
             [
              0.1111111111111111,
              "#46039f"
             ],
             [
              0.2222222222222222,
              "#7201a8"
             ],
             [
              0.3333333333333333,
              "#9c179e"
             ],
             [
              0.4444444444444444,
              "#bd3786"
             ],
             [
              0.5555555555555556,
              "#d8576b"
             ],
             [
              0.6666666666666666,
              "#ed7953"
             ],
             [
              0.7777777777777778,
              "#fb9f3a"
             ],
             [
              0.8888888888888888,
              "#fdca26"
             ],
             [
              1,
              "#f0f921"
             ]
            ],
            "type": "histogram2dcontour"
           }
          ],
          "mesh3d": [
           {
            "colorbar": {
             "outlinewidth": 0,
             "ticks": ""
            },
            "type": "mesh3d"
           }
          ],
          "parcoords": [
           {
            "line": {
             "colorbar": {
              "outlinewidth": 0,
              "ticks": ""
             }
            },
            "type": "parcoords"
           }
          ],
          "pie": [
           {
            "automargin": true,
            "type": "pie"
           }
          ],
          "scatter": [
           {
            "marker": {
             "colorbar": {
              "outlinewidth": 0,
              "ticks": ""
             }
            },
            "type": "scatter"
           }
          ],
          "scatter3d": [
           {
            "line": {
             "colorbar": {
              "outlinewidth": 0,
              "ticks": ""
             }
            },
            "marker": {
             "colorbar": {
              "outlinewidth": 0,
              "ticks": ""
             }
            },
            "type": "scatter3d"
           }
          ],
          "scattercarpet": [
           {
            "marker": {
             "colorbar": {
              "outlinewidth": 0,
              "ticks": ""
             }
            },
            "type": "scattercarpet"
           }
          ],
          "scattergeo": [
           {
            "marker": {
             "colorbar": {
              "outlinewidth": 0,
              "ticks": ""
             }
            },
            "type": "scattergeo"
           }
          ],
          "scattergl": [
           {
            "marker": {
             "colorbar": {
              "outlinewidth": 0,
              "ticks": ""
             }
            },
            "type": "scattergl"
           }
          ],
          "scattermapbox": [
           {
            "marker": {
             "colorbar": {
              "outlinewidth": 0,
              "ticks": ""
             }
            },
            "type": "scattermapbox"
           }
          ],
          "scatterpolar": [
           {
            "marker": {
             "colorbar": {
              "outlinewidth": 0,
              "ticks": ""
             }
            },
            "type": "scatterpolar"
           }
          ],
          "scatterpolargl": [
           {
            "marker": {
             "colorbar": {
              "outlinewidth": 0,
              "ticks": ""
             }
            },
            "type": "scatterpolargl"
           }
          ],
          "scatterternary": [
           {
            "marker": {
             "colorbar": {
              "outlinewidth": 0,
              "ticks": ""
             }
            },
            "type": "scatterternary"
           }
          ],
          "surface": [
           {
            "colorbar": {
             "outlinewidth": 0,
             "ticks": ""
            },
            "colorscale": [
             [
              0,
              "#0d0887"
             ],
             [
              0.1111111111111111,
              "#46039f"
             ],
             [
              0.2222222222222222,
              "#7201a8"
             ],
             [
              0.3333333333333333,
              "#9c179e"
             ],
             [
              0.4444444444444444,
              "#bd3786"
             ],
             [
              0.5555555555555556,
              "#d8576b"
             ],
             [
              0.6666666666666666,
              "#ed7953"
             ],
             [
              0.7777777777777778,
              "#fb9f3a"
             ],
             [
              0.8888888888888888,
              "#fdca26"
             ],
             [
              1,
              "#f0f921"
             ]
            ],
            "type": "surface"
           }
          ],
          "table": [
           {
            "cells": {
             "fill": {
              "color": "#EBF0F8"
             },
             "line": {
              "color": "white"
             }
            },
            "header": {
             "fill": {
              "color": "#C8D4E3"
             },
             "line": {
              "color": "white"
             }
            },
            "type": "table"
           }
          ]
         },
         "layout": {
          "annotationdefaults": {
           "arrowcolor": "#2a3f5f",
           "arrowhead": 0,
           "arrowwidth": 1
          },
          "coloraxis": {
           "colorbar": {
            "outlinewidth": 0,
            "ticks": ""
           }
          },
          "colorscale": {
           "diverging": [
            [
             0,
             "#8e0152"
            ],
            [
             0.1,
             "#c51b7d"
            ],
            [
             0.2,
             "#de77ae"
            ],
            [
             0.3,
             "#f1b6da"
            ],
            [
             0.4,
             "#fde0ef"
            ],
            [
             0.5,
             "#f7f7f7"
            ],
            [
             0.6,
             "#e6f5d0"
            ],
            [
             0.7,
             "#b8e186"
            ],
            [
             0.8,
             "#7fbc41"
            ],
            [
             0.9,
             "#4d9221"
            ],
            [
             1,
             "#276419"
            ]
           ],
           "sequential": [
            [
             0,
             "#0d0887"
            ],
            [
             0.1111111111111111,
             "#46039f"
            ],
            [
             0.2222222222222222,
             "#7201a8"
            ],
            [
             0.3333333333333333,
             "#9c179e"
            ],
            [
             0.4444444444444444,
             "#bd3786"
            ],
            [
             0.5555555555555556,
             "#d8576b"
            ],
            [
             0.6666666666666666,
             "#ed7953"
            ],
            [
             0.7777777777777778,
             "#fb9f3a"
            ],
            [
             0.8888888888888888,
             "#fdca26"
            ],
            [
             1,
             "#f0f921"
            ]
           ],
           "sequentialminus": [
            [
             0,
             "#0d0887"
            ],
            [
             0.1111111111111111,
             "#46039f"
            ],
            [
             0.2222222222222222,
             "#7201a8"
            ],
            [
             0.3333333333333333,
             "#9c179e"
            ],
            [
             0.4444444444444444,
             "#bd3786"
            ],
            [
             0.5555555555555556,
             "#d8576b"
            ],
            [
             0.6666666666666666,
             "#ed7953"
            ],
            [
             0.7777777777777778,
             "#fb9f3a"
            ],
            [
             0.8888888888888888,
             "#fdca26"
            ],
            [
             1,
             "#f0f921"
            ]
           ]
          },
          "colorway": [
           "#636efa",
           "#EF553B",
           "#00cc96",
           "#ab63fa",
           "#FFA15A",
           "#19d3f3",
           "#FF6692",
           "#B6E880",
           "#FF97FF",
           "#FECB52"
          ],
          "font": {
           "color": "#2a3f5f"
          },
          "geo": {
           "bgcolor": "white",
           "lakecolor": "white",
           "landcolor": "#E5ECF6",
           "showlakes": true,
           "showland": true,
           "subunitcolor": "white"
          },
          "hoverlabel": {
           "align": "left"
          },
          "hovermode": "closest",
          "mapbox": {
           "style": "light"
          },
          "paper_bgcolor": "white",
          "plot_bgcolor": "#E5ECF6",
          "polar": {
           "angularaxis": {
            "gridcolor": "white",
            "linecolor": "white",
            "ticks": ""
           },
           "bgcolor": "#E5ECF6",
           "radialaxis": {
            "gridcolor": "white",
            "linecolor": "white",
            "ticks": ""
           }
          },
          "scene": {
           "xaxis": {
            "backgroundcolor": "#E5ECF6",
            "gridcolor": "white",
            "gridwidth": 2,
            "linecolor": "white",
            "showbackground": true,
            "ticks": "",
            "zerolinecolor": "white"
           },
           "yaxis": {
            "backgroundcolor": "#E5ECF6",
            "gridcolor": "white",
            "gridwidth": 2,
            "linecolor": "white",
            "showbackground": true,
            "ticks": "",
            "zerolinecolor": "white"
           },
           "zaxis": {
            "backgroundcolor": "#E5ECF6",
            "gridcolor": "white",
            "gridwidth": 2,
            "linecolor": "white",
            "showbackground": true,
            "ticks": "",
            "zerolinecolor": "white"
           }
          },
          "shapedefaults": {
           "line": {
            "color": "#2a3f5f"
           }
          },
          "ternary": {
           "aaxis": {
            "gridcolor": "white",
            "linecolor": "white",
            "ticks": ""
           },
           "baxis": {
            "gridcolor": "white",
            "linecolor": "white",
            "ticks": ""
           },
           "bgcolor": "#E5ECF6",
           "caxis": {
            "gridcolor": "white",
            "linecolor": "white",
            "ticks": ""
           }
          },
          "title": {
           "x": 0.05
          },
          "xaxis": {
           "automargin": true,
           "gridcolor": "white",
           "linecolor": "white",
           "ticks": "",
           "title": {
            "standoff": 15
           },
           "zerolinecolor": "white",
           "zerolinewidth": 2
          },
          "yaxis": {
           "automargin": true,
           "gridcolor": "white",
           "linecolor": "white",
           "ticks": "",
           "title": {
            "standoff": 15
           },
           "zerolinecolor": "white",
           "zerolinewidth": 2
          }
         }
        },
        "xaxis": {
         "anchor": "y",
         "domain": [
          0,
          1
         ],
         "title": {
          "text": "Sequence Position"
         }
        },
        "yaxis": {
         "anchor": "x",
         "domain": [
          0,
          1
         ],
         "title": {
          "text": "Included in Model"
         }
        }
       }
      },
      "text/html": [
       "<div>\n",
       "        \n",
       "        \n",
       "            <div id=\"794d12e0-8c98-4b38-8f04-c8b605ddeada\" class=\"plotly-graph-div\" style=\"height:525px; width:100%;\"></div>\n",
       "            <script type=\"text/javascript\">\n",
       "                require([\"plotly\"], function(Plotly) {\n",
       "                    window.PLOTLYENV=window.PLOTLYENV || {};\n",
       "                    \n",
       "                if (document.getElementById(\"794d12e0-8c98-4b38-8f04-c8b605ddeada\")) {\n",
       "                    Plotly.newPlot(\n",
       "                        '794d12e0-8c98-4b38-8f04-c8b605ddeada',\n",
       "                        [{\"alignmentgroup\": \"True\", \"hovertemplate\": \"Sequence Position=%{x}<br>Included in Model=%{y}<extra></extra>\", \"legendgroup\": \"\", \"marker\": {\"color\": \"#636efa\"}, \"name\": \"\", \"offsetgroup\": \"\", \"orientation\": \"v\", \"showlegend\": false, \"textposition\": \"auto\", \"type\": \"bar\", \"x\": [1, 2, 3, 4, 5, 6, 7, 8, 9, 10, 11, 12, 13, 14, 15, 16, 17, 18, 19, 20, 21, 22, 23, 24, 25, 26, 27, 28, 29, 30, 31, 32, 33, 34, 35, 36, 37, 38, 39, 40, 41, 42, 43, 44, 45, 46, 47, 48, 49, 50, 51, 52, 53, 54, 55, 56, 57, 58, 59, 60], \"xaxis\": \"x\", \"y\": [false, false, false, false, false, false, false, false, true, true, false, false, false, false, false, true, true, true, true, true, true, true, true, true, true, true, false, true, true, true, true, true, true, true, true, false, false, false, false, false, false, false, false, false, false, false, false, false, false, false, false, false, false, false, false, false, false, false, false, false], \"yaxis\": \"y\"}],\n",
       "                        {\"barmode\": \"relative\", \"legend\": {\"tracegroupgap\": 0}, \"margin\": {\"t\": 60}, \"template\": {\"data\": {\"bar\": [{\"error_x\": {\"color\": \"#2a3f5f\"}, \"error_y\": {\"color\": \"#2a3f5f\"}, \"marker\": {\"line\": {\"color\": \"#E5ECF6\", \"width\": 0.5}}, \"type\": \"bar\"}], \"barpolar\": [{\"marker\": {\"line\": {\"color\": \"#E5ECF6\", \"width\": 0.5}}, \"type\": \"barpolar\"}], \"carpet\": [{\"aaxis\": {\"endlinecolor\": \"#2a3f5f\", \"gridcolor\": \"white\", \"linecolor\": \"white\", \"minorgridcolor\": \"white\", \"startlinecolor\": \"#2a3f5f\"}, \"baxis\": {\"endlinecolor\": \"#2a3f5f\", \"gridcolor\": \"white\", \"linecolor\": \"white\", \"minorgridcolor\": \"white\", \"startlinecolor\": \"#2a3f5f\"}, \"type\": \"carpet\"}], \"choropleth\": [{\"colorbar\": {\"outlinewidth\": 0, \"ticks\": \"\"}, \"type\": \"choropleth\"}], \"contour\": [{\"colorbar\": {\"outlinewidth\": 0, \"ticks\": \"\"}, \"colorscale\": [[0.0, \"#0d0887\"], [0.1111111111111111, \"#46039f\"], [0.2222222222222222, \"#7201a8\"], [0.3333333333333333, \"#9c179e\"], [0.4444444444444444, \"#bd3786\"], [0.5555555555555556, \"#d8576b\"], [0.6666666666666666, \"#ed7953\"], [0.7777777777777778, \"#fb9f3a\"], [0.8888888888888888, \"#fdca26\"], [1.0, \"#f0f921\"]], \"type\": \"contour\"}], \"contourcarpet\": [{\"colorbar\": {\"outlinewidth\": 0, \"ticks\": \"\"}, \"type\": \"contourcarpet\"}], \"heatmap\": [{\"colorbar\": {\"outlinewidth\": 0, \"ticks\": \"\"}, \"colorscale\": [[0.0, \"#0d0887\"], [0.1111111111111111, \"#46039f\"], [0.2222222222222222, \"#7201a8\"], [0.3333333333333333, \"#9c179e\"], [0.4444444444444444, \"#bd3786\"], [0.5555555555555556, \"#d8576b\"], [0.6666666666666666, \"#ed7953\"], [0.7777777777777778, \"#fb9f3a\"], [0.8888888888888888, \"#fdca26\"], [1.0, \"#f0f921\"]], \"type\": \"heatmap\"}], \"heatmapgl\": [{\"colorbar\": {\"outlinewidth\": 0, \"ticks\": \"\"}, \"colorscale\": [[0.0, \"#0d0887\"], [0.1111111111111111, \"#46039f\"], [0.2222222222222222, \"#7201a8\"], [0.3333333333333333, \"#9c179e\"], [0.4444444444444444, \"#bd3786\"], [0.5555555555555556, \"#d8576b\"], [0.6666666666666666, \"#ed7953\"], [0.7777777777777778, \"#fb9f3a\"], [0.8888888888888888, \"#fdca26\"], [1.0, \"#f0f921\"]], \"type\": \"heatmapgl\"}], \"histogram\": [{\"marker\": {\"colorbar\": {\"outlinewidth\": 0, \"ticks\": \"\"}}, \"type\": \"histogram\"}], \"histogram2d\": [{\"colorbar\": {\"outlinewidth\": 0, \"ticks\": \"\"}, \"colorscale\": [[0.0, \"#0d0887\"], [0.1111111111111111, \"#46039f\"], [0.2222222222222222, \"#7201a8\"], [0.3333333333333333, \"#9c179e\"], [0.4444444444444444, \"#bd3786\"], [0.5555555555555556, \"#d8576b\"], [0.6666666666666666, \"#ed7953\"], [0.7777777777777778, \"#fb9f3a\"], [0.8888888888888888, \"#fdca26\"], [1.0, \"#f0f921\"]], \"type\": \"histogram2d\"}], \"histogram2dcontour\": [{\"colorbar\": {\"outlinewidth\": 0, \"ticks\": \"\"}, \"colorscale\": [[0.0, \"#0d0887\"], [0.1111111111111111, \"#46039f\"], [0.2222222222222222, \"#7201a8\"], [0.3333333333333333, \"#9c179e\"], [0.4444444444444444, \"#bd3786\"], [0.5555555555555556, \"#d8576b\"], [0.6666666666666666, \"#ed7953\"], [0.7777777777777778, \"#fb9f3a\"], [0.8888888888888888, \"#fdca26\"], [1.0, \"#f0f921\"]], \"type\": \"histogram2dcontour\"}], \"mesh3d\": [{\"colorbar\": {\"outlinewidth\": 0, \"ticks\": \"\"}, \"type\": \"mesh3d\"}], \"parcoords\": [{\"line\": {\"colorbar\": {\"outlinewidth\": 0, \"ticks\": \"\"}}, \"type\": \"parcoords\"}], \"pie\": [{\"automargin\": true, \"type\": \"pie\"}], \"scatter\": [{\"marker\": {\"colorbar\": {\"outlinewidth\": 0, \"ticks\": \"\"}}, \"type\": \"scatter\"}], \"scatter3d\": [{\"line\": {\"colorbar\": {\"outlinewidth\": 0, \"ticks\": \"\"}}, \"marker\": {\"colorbar\": {\"outlinewidth\": 0, \"ticks\": \"\"}}, \"type\": \"scatter3d\"}], \"scattercarpet\": [{\"marker\": {\"colorbar\": {\"outlinewidth\": 0, \"ticks\": \"\"}}, \"type\": \"scattercarpet\"}], \"scattergeo\": [{\"marker\": {\"colorbar\": {\"outlinewidth\": 0, \"ticks\": \"\"}}, \"type\": \"scattergeo\"}], \"scattergl\": [{\"marker\": {\"colorbar\": {\"outlinewidth\": 0, \"ticks\": \"\"}}, \"type\": \"scattergl\"}], \"scattermapbox\": [{\"marker\": {\"colorbar\": {\"outlinewidth\": 0, \"ticks\": \"\"}}, \"type\": \"scattermapbox\"}], \"scatterpolar\": [{\"marker\": {\"colorbar\": {\"outlinewidth\": 0, \"ticks\": \"\"}}, \"type\": \"scatterpolar\"}], \"scatterpolargl\": [{\"marker\": {\"colorbar\": {\"outlinewidth\": 0, \"ticks\": \"\"}}, \"type\": \"scatterpolargl\"}], \"scatterternary\": [{\"marker\": {\"colorbar\": {\"outlinewidth\": 0, \"ticks\": \"\"}}, \"type\": \"scatterternary\"}], \"surface\": [{\"colorbar\": {\"outlinewidth\": 0, \"ticks\": \"\"}, \"colorscale\": [[0.0, \"#0d0887\"], [0.1111111111111111, \"#46039f\"], [0.2222222222222222, \"#7201a8\"], [0.3333333333333333, \"#9c179e\"], [0.4444444444444444, \"#bd3786\"], [0.5555555555555556, \"#d8576b\"], [0.6666666666666666, \"#ed7953\"], [0.7777777777777778, \"#fb9f3a\"], [0.8888888888888888, \"#fdca26\"], [1.0, \"#f0f921\"]], \"type\": \"surface\"}], \"table\": [{\"cells\": {\"fill\": {\"color\": \"#EBF0F8\"}, \"line\": {\"color\": \"white\"}}, \"header\": {\"fill\": {\"color\": \"#C8D4E3\"}, \"line\": {\"color\": \"white\"}}, \"type\": \"table\"}]}, \"layout\": {\"annotationdefaults\": {\"arrowcolor\": \"#2a3f5f\", \"arrowhead\": 0, \"arrowwidth\": 1}, \"coloraxis\": {\"colorbar\": {\"outlinewidth\": 0, \"ticks\": \"\"}}, \"colorscale\": {\"diverging\": [[0, \"#8e0152\"], [0.1, \"#c51b7d\"], [0.2, \"#de77ae\"], [0.3, \"#f1b6da\"], [0.4, \"#fde0ef\"], [0.5, \"#f7f7f7\"], [0.6, \"#e6f5d0\"], [0.7, \"#b8e186\"], [0.8, \"#7fbc41\"], [0.9, \"#4d9221\"], [1, \"#276419\"]], \"sequential\": [[0.0, \"#0d0887\"], [0.1111111111111111, \"#46039f\"], [0.2222222222222222, \"#7201a8\"], [0.3333333333333333, \"#9c179e\"], [0.4444444444444444, \"#bd3786\"], [0.5555555555555556, \"#d8576b\"], [0.6666666666666666, \"#ed7953\"], [0.7777777777777778, \"#fb9f3a\"], [0.8888888888888888, \"#fdca26\"], [1.0, \"#f0f921\"]], \"sequentialminus\": [[0.0, \"#0d0887\"], [0.1111111111111111, \"#46039f\"], [0.2222222222222222, \"#7201a8\"], [0.3333333333333333, \"#9c179e\"], [0.4444444444444444, \"#bd3786\"], [0.5555555555555556, \"#d8576b\"], [0.6666666666666666, \"#ed7953\"], [0.7777777777777778, \"#fb9f3a\"], [0.8888888888888888, \"#fdca26\"], [1.0, \"#f0f921\"]]}, \"colorway\": [\"#636efa\", \"#EF553B\", \"#00cc96\", \"#ab63fa\", \"#FFA15A\", \"#19d3f3\", \"#FF6692\", \"#B6E880\", \"#FF97FF\", \"#FECB52\"], \"font\": {\"color\": \"#2a3f5f\"}, \"geo\": {\"bgcolor\": \"white\", \"lakecolor\": \"white\", \"landcolor\": \"#E5ECF6\", \"showlakes\": true, \"showland\": true, \"subunitcolor\": \"white\"}, \"hoverlabel\": {\"align\": \"left\"}, \"hovermode\": \"closest\", \"mapbox\": {\"style\": \"light\"}, \"paper_bgcolor\": \"white\", \"plot_bgcolor\": \"#E5ECF6\", \"polar\": {\"angularaxis\": {\"gridcolor\": \"white\", \"linecolor\": \"white\", \"ticks\": \"\"}, \"bgcolor\": \"#E5ECF6\", \"radialaxis\": {\"gridcolor\": \"white\", \"linecolor\": \"white\", \"ticks\": \"\"}}, \"scene\": {\"xaxis\": {\"backgroundcolor\": \"#E5ECF6\", \"gridcolor\": \"white\", \"gridwidth\": 2, \"linecolor\": \"white\", \"showbackground\": true, \"ticks\": \"\", \"zerolinecolor\": \"white\"}, \"yaxis\": {\"backgroundcolor\": \"#E5ECF6\", \"gridcolor\": \"white\", \"gridwidth\": 2, \"linecolor\": \"white\", \"showbackground\": true, \"ticks\": \"\", \"zerolinecolor\": \"white\"}, \"zaxis\": {\"backgroundcolor\": \"#E5ECF6\", \"gridcolor\": \"white\", \"gridwidth\": 2, \"linecolor\": \"white\", \"showbackground\": true, \"ticks\": \"\", \"zerolinecolor\": \"white\"}}, \"shapedefaults\": {\"line\": {\"color\": \"#2a3f5f\"}}, \"ternary\": {\"aaxis\": {\"gridcolor\": \"white\", \"linecolor\": \"white\", \"ticks\": \"\"}, \"baxis\": {\"gridcolor\": \"white\", \"linecolor\": \"white\", \"ticks\": \"\"}, \"bgcolor\": \"#E5ECF6\", \"caxis\": {\"gridcolor\": \"white\", \"linecolor\": \"white\", \"ticks\": \"\"}}, \"title\": {\"x\": 0.05}, \"xaxis\": {\"automargin\": true, \"gridcolor\": \"white\", \"linecolor\": \"white\", \"ticks\": \"\", \"title\": {\"standoff\": 15}, \"zerolinecolor\": \"white\", \"zerolinewidth\": 2}, \"yaxis\": {\"automargin\": true, \"gridcolor\": \"white\", \"linecolor\": \"white\", \"ticks\": \"\", \"title\": {\"standoff\": 15}, \"zerolinecolor\": \"white\", \"zerolinewidth\": 2}}}, \"xaxis\": {\"anchor\": \"y\", \"domain\": [0.0, 1.0], \"title\": {\"text\": \"Sequence Position\"}}, \"yaxis\": {\"anchor\": \"x\", \"domain\": [0.0, 1.0], \"title\": {\"text\": \"Included in Model\"}}},\n",
       "                        {\"responsive\": true}\n",
       "                    ).then(function(){\n",
       "                            \n",
       "var gd = document.getElementById('794d12e0-8c98-4b38-8f04-c8b605ddeada');\n",
       "var x = new MutationObserver(function (mutations, observer) {{\n",
       "        var display = window.getComputedStyle(gd).display;\n",
       "        if (!display || display === 'none') {{\n",
       "            console.log([gd, 'removed!']);\n",
       "            Plotly.purge(gd);\n",
       "            observer.disconnect();\n",
       "        }}\n",
       "}});\n",
       "\n",
       "// Listen for the removal of the full notebook cells\n",
       "var notebookContainer = gd.closest('#notebook-container');\n",
       "if (notebookContainer) {{\n",
       "    x.observe(notebookContainer, {childList: true});\n",
       "}}\n",
       "\n",
       "// Listen for the clearing of the current output cell\n",
       "var outputEl = gd.closest('.output');\n",
       "if (outputEl) {{\n",
       "    x.observe(outputEl, {childList: true});\n",
       "}}\n",
       "\n",
       "                        })\n",
       "                };\n",
       "                });\n",
       "            </script>\n",
       "        </div>"
      ]
     },
     "metadata": {},
     "output_type": "display_data"
    }
   ],
   "source": [
    "import plotly.express as px\n",
    "features = df.drop('Class', axis=1).reset_index(drop=True) # isolate un-hot encoded features\n",
    "included = [False] * len(features) # keep track of each attribute\n",
    "for attribute in features.columns:\n",
    "    index = int(attribute.strip('attribute_')) - 1 # 'attribute_x' -> x\n",
    "    all_bases = ['x%d_A'%index, 'x%d_C'%index, 'x%d_C'%index, 'x%d_G'%index]\n",
    "    for single_base in all_bases: # check if any one of this index's bases was included in feature selection \n",
    "        if single_base in selected_feature_list:\n",
    "            included[index] = True\n",
    "            break\n",
    "\n",
    "names = [int(attribute.strip('attribute_')) for attribute in features.columns] # 'attribute_x' -> x\n",
    "base_included = pd.DataFrame(list(zip(names, included)), \n",
    "               columns =['Sequence Position', 'Included in Model'])\n",
    "fig = px.bar(base_included, x='Sequence Position', y='Included in Model') # binary bar chart\n",
    "fig.show()"
   ]
  },
  {
   "cell_type": "markdown",
   "metadata": {},
   "source": [
    "### 3.3. Model Construction\n",
    "* Conduct your hypothesis test(s) here.\n",
    "* For your machine learning question(s), use the Training, Validation, and Testing approach through GridSearch\n",
    "* Apply machine learning algorithms (apply at least three different algorithms)\n",
    "* Train your algorithms"
   ]
  },
  {
   "cell_type": "code",
   "execution_count": 14,
   "metadata": {},
   "outputs": [
    {
     "name": "stdout",
     "output_type": "stream",
     "text": [
      "LeveneResult(statistic=9.704619548316602, pvalue=6.28230952133715e-05)\n",
      "ShapiroResult(statistic=0.9692525863647461, pvalue=1.2738653014376933e-11)\n",
      "ShapiroResult(statistic=0.9704548716545105, pvalue=2.413696499614648e-11)\n",
      "ShapiroResult(statistic=0.9960957765579224, pvalue=0.0002952643553726375)\n"
     ]
    }
   ],
   "source": [
    "from scipy import stats\n",
    "target_gc = pd.concat((target, counts['gccontent']), axis=1)\n",
    "gc_ei = target_gc[target_gc['Class'] == 0]['gccontent']\n",
    "gc_ie = target_gc[target_gc['Class'] == 1]['gccontent']\n",
    "gc_n = target_gc[target_gc['Class'] == 2]['gccontent']\n",
    "\n",
    "# Check assumptions of normality and homogeneity of variances\n",
    "levene_results = stats.levene(gc_ei, gc_ie, gc_n)\n",
    "shapiro_ei = stats.shapiro(gc_ei)\n",
    "shapiro_ie = stats.shapiro(gc_ie)\n",
    "shapiro_n = stats.shapiro(gc_n)\n",
    "print(levene_results)\n",
    "print(shapiro_ei)\n",
    "print(shapiro_ie)\n",
    "print(shapiro_n)"
   ]
  },
  {
   "cell_type": "code",
   "execution_count": 15,
   "metadata": {},
   "outputs": [
    {
     "ename": "ModuleNotFoundError",
     "evalue": "No module named 'scikit_posthocs'",
     "output_type": "error",
     "traceback": [
      "\u001b[0;31m---------------------------------------------------------------------------\u001b[0m",
      "\u001b[0;31mModuleNotFoundError\u001b[0m                       Traceback (most recent call last)",
      "\u001b[0;32m<ipython-input-15-fab4fcaabdfb>\u001b[0m in \u001b[0;36m<module>\u001b[0;34m\u001b[0m\n\u001b[1;32m      2\u001b[0m \u001b[0;31m# Assumptions of normality and equality of variances NOT met\u001b[0m\u001b[0;34m\u001b[0m\u001b[0;34m\u001b[0m\u001b[0;34m\u001b[0m\u001b[0m\n\u001b[1;32m      3\u001b[0m \u001b[0;31m# Use Kruskal-Wallis non-parametric ANOVA instead\u001b[0m\u001b[0;34m\u001b[0m\u001b[0;34m\u001b[0m\u001b[0;34m\u001b[0m\u001b[0m\n\u001b[0;32m----> 4\u001b[0;31m \u001b[0;32mfrom\u001b[0m \u001b[0mscikit_posthocs\u001b[0m \u001b[0;32mimport\u001b[0m \u001b[0mposthoc_dunn\u001b[0m\u001b[0;34m\u001b[0m\u001b[0;34m\u001b[0m\u001b[0m\n\u001b[0m\u001b[1;32m      5\u001b[0m \u001b[0;34m\u001b[0m\u001b[0m\n\u001b[1;32m      6\u001b[0m \u001b[0mkruskal_results\u001b[0m \u001b[0;34m=\u001b[0m \u001b[0mstats\u001b[0m\u001b[0;34m.\u001b[0m\u001b[0mkruskal\u001b[0m\u001b[0;34m(\u001b[0m\u001b[0mgc_ei\u001b[0m\u001b[0;34m,\u001b[0m \u001b[0mgc_ie\u001b[0m\u001b[0;34m,\u001b[0m \u001b[0mgc_n\u001b[0m\u001b[0;34m)\u001b[0m\u001b[0;34m\u001b[0m\u001b[0;34m\u001b[0m\u001b[0m\n",
      "\u001b[0;31mModuleNotFoundError\u001b[0m: No module named 'scikit_posthocs'"
     ]
    }
   ],
   "source": [
    "# All Shapiro tests and the Levene test were statistically significant\n",
    "# Assumptions of normality and equality of variances NOT met\n",
    "# Use Kruskal-Wallis non-parametric ANOVA instead\n",
    "from scikit_posthocs import posthoc_dunn\n",
    "\n",
    "kruskal_results = stats.kruskal(gc_ei, gc_ie, gc_n)\n",
    "print(kruskal_results)\n",
    "# Statistically significant\n",
    "# Use Dunn non-parametric post-hoc tests\n",
    "dunn_result = posthoc_dunn(target_gc, val_col='gccontent', group_col='Class')\n",
    "dunn_result = dunn_result.rename({0:'EI', 1: 'IE', 2: 'N'})\n",
    "dunn_result = dunn_result.rename({0:'EI', 1: 'IE', 2: 'N'}, axis=1)\n",
    "dunn_result"
   ]
  },
  {
   "cell_type": "code",
   "execution_count": null,
   "metadata": {},
   "outputs": [],
   "source": [
    "# All categories are different from each other\n",
    "# Finding the median of each class to compare\n",
    "import numpy as np\n",
    "ei_med = np.median(gc_ei)\n",
    "ie_med = np.median(gc_ie)\n",
    "n_med = np.median(gc_n)\n",
    "print(\"Exon/Intron Median GC content: \", ei_med)\n",
    "print(\"Intron/Exon Median GC content: \", ie_med)\n",
    "print(\"Non-Splice Median GC content: \", n_med)"
   ]
  },
  {
   "cell_type": "code",
   "execution_count": null,
   "metadata": {},
   "outputs": [],
   "source": [
    "from sklearn.neighbors import KNeighborsClassifier # import k-nearest neighbors\n",
    "from sklearn.svm import LinearSVC # import svm\n",
    "from sklearn.naive_bayes import GaussianNB # import gaussian naive_bayes\n",
    "from sklearn.tree import DecisionTreeClassifier # import decision tree classifier\n",
    "from sklearn.naive_bayes import BernoulliNB # import Bernoulli NB\n",
    "from sklearn.naive_bayes import MultinomialNB\n",
    "from sklearn.model_selection import KFold # import k-fold\n",
    "from sklearn.model_selection import cross_val_score # import cross validation scores\n",
    "\n",
    "# dictionary of machine learning algorithms (no hyperparameters tuned)\n",
    "estimatorsi={'K-Nearest Neighbor': KNeighborsClassifier(), # k-nearest neighbors\n",
    "            'Support Vector Machine': LinearSVC(max_iter=1000000), # svm\n",
    "            'Gaussian Naive Bayes': GaussianNB(), # gaussian naive_bayes\n",
    "            'Decision Tree': DecisionTreeClassifier(), #decision tree classifier\n",
    "            'Bernoulli Naive Bayes': BernoulliNB(), # bernoulli naive bayes\n",
    "            'Multinomial Naive Bayes': MultinomialNB()} # multinomial naive bayes\n",
    "\n",
    "def runkfold(estimators): # runs cross fold validation on a dictionary of models\n",
    "    for cmodel in estimators: # for each model     \n",
    "        kfold = KFold(n_splits=10, random_state=3000, shuffle=True) # setup KFold\n",
    "        scores = cross_val_score(estimator=estimators[cmodel], X=X_train_selected, y=y_train, cv=kfold) # calculate scores\n",
    "        print(cmodel + \":\") # print model name\n",
    "        print(f'\\tMean Accuracy: {scores.mean():.2%}') # print mean accuracy\n",
    "        print(f'\\tStandard Deviation: {scores.std():.2%}') # print standard deviation\n",
    "\n",
    "runkfold(estimatorsi) # find initial accuracies before hyper parameter tuning"
   ]
  },
  {
   "cell_type": "markdown",
   "metadata": {},
   "source": [
    "### 3.5. Model Optimization\n",
    "* Tune your models using appropriate hyperparameters\n",
    "* Explain why you are doing this (e.g., to avoid overfitting, etc.)"
   ]
  },
  {
   "cell_type": "code",
   "execution_count": null,
   "metadata": {},
   "outputs": [],
   "source": [
    "from sklearn.model_selection import GridSearchCV\n",
    "\n",
    "param_grid = {'K-Nearest Neighbor': {'n_neighbors': [1, 2, 3, 5, 9], 'algorithm': ['auto', 'ball_tree', 'kd_tree', 'brute']},\n",
    "              'Support Vector Machine': {'C': [10, 1, 0.1, 0.01, 0.001, 0.0001], 'max_iter': [10000, 100000, 1000000]},\n",
    "              'Gaussian Naive Bayes': {'var_smoothing': [1e-10, 1e-9, 1e-8, 1e-7]},\n",
    "              'Decision Tree': {'max_depth': [1, 5, 10, 15, 20, 25, 30]},\n",
    "              'Bernoulli Naive Bayes': {'alpha': [10, 1, 0.1, 0.01, 0.001, 0.0001]},\n",
    "              'Multinomial Naive Bayes': {'alpha': [10, 1, 0.1, 0.01, 0.001, 0.0001]}}\n",
    "\n",
    "\n",
    "for model in estimatorsi:\n",
    "    grid_search = GridSearchCV(estimatorsi[model], param_grid[model], cv=10)\n",
    "    grid_search.fit(X=X_train_selected, y=y_train)\n",
    "\n",
    "    print(\"\\n\", model)\n",
    "    print(\"Best Parameters: \", grid_search.best_params_)\n",
    "    print(\"Best cross-validation score: \", grid_search.best_score_)"
   ]
  },
  {
   "cell_type": "markdown",
   "metadata": {},
   "source": [
    "### 3.4. Model Evaluation\n",
    "* Evaluate the performance of your algorithms on appropriate evaluation metrics, using your **validation set**\n",
    "    * Use at least two different metrics \n",
    "* Evaluate your results from multiple ML models and hypothesis tests\n",
    "    * What was the performance of each algorithm in plain English? Is there any indication of overfitting/underfitting?\n",
    "    * Was there a significant difference? Use the template from lecture slides when reporting the results of your hypothesis testing."
   ]
  },
  {
   "cell_type": "markdown",
   "metadata": {},
   "source": [
    "A Kruskal-Wallis non-parametric ANOVA was conducted to compare the GC-content among splice donors (exon-intron junctions), splice acceptors (intron-exon junctions), and non-splice sequences.\n",
    "Results revealed a statistically significant difference among the three sequence types, H = 112.02, p < .0001. \n",
    "Post-hoc comparisons using the non-parametric Dunn test indicated that the median GC content of splice donors (58.33%) was higher than that of splice acceptors (55%). Both of these sequence types had higher median GC content than non-splice sequences (51.67%).\n"
   ]
  },
  {
   "cell_type": "code",
   "execution_count": null,
   "metadata": {},
   "outputs": [],
   "source": [
    "# dictionary of machine learning algorithms with best hyperparameters determined using GridSearch\n",
    "estimatorsf={'K-Nearest Neighbor': KNeighborsClassifier(algorithm='auto', n_neighbors=9), # k-nearest neighbors\n",
    "            'Support Vector Machine': LinearSVC(C=1, max_iter=10000), # svm\n",
    "            'Gaussian Naive Bayes': GaussianNB(var_smoothing=1e-07), # gaussian naive_bayes\n",
    "            'Decision Tree': DecisionTreeClassifier(max_depth=10), #decision tree classifier\n",
    "            'Bernoulli Naive Bayes': BernoulliNB(alpha=0.1), # bernoulli naive bayes\n",
    "            'Multinomial Naive Bayes': MultinomialNB(alpha=0.1)} # multinomial naive bayes\n",
    "\n",
    "runkfold(estimatorsf) # find highest accuracies after hyper parameter tuning"
   ]
  },
  {
   "cell_type": "markdown",
   "metadata": {},
   "source": [
    "### 3.6. Model Testing\n",
    "* Test your tuned algorithms using your **testing set**"
   ]
  },
  {
   "cell_type": "code",
   "execution_count": null,
   "metadata": {},
   "outputs": [],
   "source": [
    "# Based on the above accuracies and standard deviations, the best model will be the Bernoulli Naive Bayes model with 10 fold cross-validation. This is\n",
    "# based on its accuracy of 96.32% and standard deviation of 0.83%. This model will now be further evaluated\n",
    "# and tuned to increase the accuracy even further.\n",
    "bmodel = BernoulliNB(alpha=0.1).fit(X=X_train_selected, y=y_train) # fit model to training\n",
    "\n",
    "from sklearn.metrics import confusion_matrix\n",
    "from sklearn.metrics import classification_report\n",
    "from sklearn.metrics import plot_confusion_matrix\n",
    "\n",
    "predicted = bmodel.predict(X=X_test_selected)\n",
    "\n",
    "class_report = classification_report(y_true=y_test, y_pred=predicted)\n",
    "print(class_report)\n",
    "\n",
    "# Plot non-normalized confusion matrix\n",
    "disp = plot_confusion_matrix(bmodel, X_test_selected, y_test, \n",
    "                             display_labels=['EI', 'IE', 'N'],\n",
    "                             cmap=plt.cm.Blues,\n",
    "                             normalize='true')\n",
    "disp.ax_.set_title(\"Normalized confusion matrix\")\n",
    "print(\"Un-normalized Confusion Matrix\")\n",
    "confusion = confusion_matrix(y_true=y_test, y_pred=predicted)\n",
    "print(confusion)\n",
    "print(\"\\nNormalized Confusion Matrix\")\n",
    "print(disp.confusion_matrix)\n",
    "plt.show()"
   ]
  },
  {
   "cell_type": "markdown",
   "metadata": {},
   "source": [
    "<a id=\"4\"></a>\n",
    "<hr style=\"height:2px; border:none; color:black; background-color:black;\">"
   ]
  },
  {
   "cell_type": "markdown",
   "metadata": {},
   "source": [
    "## 4. DISCUSSION\n",
    "* Interpret your findings from 3.4., 3.5, and 3.6\n",
    "    * Which algorithms did you compare?\n",
    "    * Which algorithm(s) revealed best performance?\n",
    "    * Which algorithm(s) should be used for your predictive model?\n",
    "    * Based on your findings, can we use the features in your dataset to predict the outcome variable you identified using the algorithms you've applied? (It is okay if the answer is no. We're interested in the process, not the performance of the model.)\n",
    "* For your hypotheses, interpret the results. What does it mean to have significant/non-significant differences with regards to your data?\n",
    "\n",
    "\n",
    "* End this section with a conclusion paragraph containing some pointers for future work\n",
    "    * (e.g., get more data/features, perform another analysis, etc.)"
   ]
  },
  {
   "cell_type": "markdown",
   "metadata": {},
   "source": [
    "**3rd test** The nucleiotide bases in the middle of the sequence were in the middle of the sequence, aligning with our hypothesis. This finding is unsurprising though as the dataset was made to have the splice junctions in the middle, making them inherently important for identifying junctions. This can be seen in Figure 3, the binary bar chart. An interesting finding is that the bases leading up to the middle were more important than those following it. This can be seen with bases 15-25 being selected and 35-45 not being selected. The lack of quantibility to this hypothesis does not  discredit the work as much as it proves the need for more analysis. It would be very interesting to do a more thorough analysis on codons as well as bases in the important regions to look for more patterns.\n"
   ]
  },
  {
   "cell_type": "markdown",
   "metadata": {},
   "source": [
    "**Future Work:** While the results of the models are promising, there are still some things that might produce even more interesting results. The first thing we could do is obtain more data to potentially increase the accuracy of the model. It would be especially interesting to see how this model can transfer to genes of non-primates. We also believe that more insights can be derived if an n-gram-like protocol is employed. Genes are transcribed into amino acids in groups of 3 bases called codons. Grouping the bases into n-grams of size 3 will allow for the recognition of specific amino acids that may be linked to splice junctions. This would be especially useful when identifying the beginning and end of genes. These insights, combined with the patterns discovered already with specific bases will allow for greater accuracy."
   ]
  },
  {
   "cell_type": "markdown",
   "metadata": {},
   "source": [
    "<a id=\"5\"></a>\n",
    "<hr style=\"height:2px; border:none; color:black; background-color:black;\">"
   ]
  },
  {
   "cell_type": "markdown",
   "metadata": {},
   "source": [
    "### CONTRIBUTIONS\n",
    "* Describe each team member's contributions to the report (who did what in each section)\n",
    "* Remember this is a team effort!\n",
    "* Each member of your team will provide peer evaluation of other team members. Your final grade on the project will be based on those peer evaluations. A survey will be shared after the deadline for this deliverable."
   ]
  },
  {
   "cell_type": "markdown",
   "metadata": {},
   "source": [
    "**Introduction**\n",
    "    Charles completed the problem statement, and significance of the problem. Questions, hypotheses and justifications for those hypotheses were worked on as a group.\n",
    "    \n",
    "**Data Aquisition** \n",
    "    This section was completed primarily as a group and Zach created the GitHub to load our dataset from.\n",
    "    \n",
    "**Data Analysis**\n",
    "    This section was completed by Giona.\n",
    "    \n",
    "**Data Wrangling**\n",
    "    This section was completed as a group.\n",
    "    \n",
    "**Data Exploration (plots)**\n",
    "    The first plot (stacked bar chart) was created by Charles. The rest of the plots were created by Zach. Zach also embedded the plotly images into the notebook from GitHub.\n",
    "    \n",
    "**Model Construction Evaluation and Testing**\n",
    "    This section was completed as a group.\n",
    "    \n",
    "**Discussion and Hypothesis Tests**\n",
    "    The discussion was completed as a group. Our first hypothesis was evaluated by Giona, our second hypothesis was tested and evaluated by Charles, and our this hypothesis was evaluated by Zach. Zach also completed the future works section of the discussion."
   ]
  },
  {
   "cell_type": "code",
   "execution_count": null,
   "metadata": {},
   "outputs": [],
   "source": []
  }
 ],
 "metadata": {
  "kernelspec": {
   "display_name": "Python 3",
   "language": "python",
   "name": "python3"
  },
  "language_info": {
   "codemirror_mode": {
    "name": "ipython",
    "version": 3
   },
   "file_extension": ".py",
   "mimetype": "text/x-python",
   "name": "python",
   "nbconvert_exporter": "python",
   "pygments_lexer": "ipython3",
   "version": "3.8.3"
  }
 },
 "nbformat": 4,
 "nbformat_minor": 4
}
